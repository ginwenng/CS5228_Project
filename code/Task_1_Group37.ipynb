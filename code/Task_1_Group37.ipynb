{
 "cells": [
  {
   "cell_type": "markdown",
   "metadata": {},
   "source": [
    "## [CS5228 - Project 37] Task 1: Prediction of Property Prices"
   ]
  },
  {
   "cell_type": "markdown",
   "metadata": {},
   "source": [
    "Group Members:\n",
    "- A0255968H – Drishti Sanjay Jain\n",
    "- A0142949U – Gin Wen Ng\n",
    "- A0172938R – Jialin Liu\n",
    "- A0254393Y – Michael"
   ]
  },
  {
   "cell_type": "markdown",
   "metadata": {},
   "source": [
    "### ML Pipeline\n",
    "0. [Set-Up](#set-up)  \n",
    "    0.1. [Imports](#su-imports)  \n",
    "    0.2. [Data Extraction](#su-de)\n",
    "1. [EDA](#eda)\n",
    "2. [Data Pre-Processing](#dp)\n",
    "3. [Feature Engineering](#fe)  \n",
    "    3.1. [Feature Extraction](#fe-fx)  \n",
    "    3.2. [Feature Selection](#fe-fs)  \n",
    "    3.3. [Data Splitting](#fe-ds)\n",
    "4. [Modelling](#m)  \n",
    "    4.1. [Model Exploration](#m-me)  \n",
    "    4.2. [Optimised Feature Selection](#m-ofs)  \n",
    "    4.3. [Hyperparameter Optimisation](#m-hpo)\n",
    "    <ul>\n",
    "        <a href = \"#m-hpo-a\">4.3.a. First Approach – hyperopt-sklearn</a><br>\n",
    "        <a href = \"#m-hpo-b\">4.3.b. Second Approach – hyperopt</a>\n",
    "    </ul><br>\n",
    "5. [Performance Evaluation](#pe)  \n",
    "    5.1. [Local Test (*X_test*)](#pe-lt)  \n",
    "    5.2. [Test Dataset (*test.csv*)](#pe-td)\n",
    "6. [Other Approaches](#oa)"
   ]
  },
  {
   "cell_type": "markdown",
   "metadata": {},
   "source": [
    "**0. Set-Up** <a id = \"set-up\"></a>"
   ]
  },
  {
   "cell_type": "markdown",
   "metadata": {},
   "source": [
    "**0.1. Imports** <a id = \"su-imports\"></a>"
   ]
  },
  {
   "cell_type": "code",
   "execution_count": 1,
   "metadata": {},
   "outputs": [
    {
     "name": "stdout",
     "output_type": "stream",
     "text": [
      "Python - 3.10.6.final\n",
      "\n",
      "Libraries:\n",
      "numpy - 1.23.3\n",
      "pandas - 1.5.0\n",
      "matplotlib, matplotlib.pyplot - 3.6.1\n",
      "seaborn - 0.12.0\n",
      "statsmodels - 0.13.2\n",
      "sklearn - 1.1.2\n",
      "xgboost - 1.6.2\n",
      "hyperopt - 0.2.7\n",
      "hyperopt-sklearn\n",
      "geopy - 2.2.0\n",
      "reverse_geocode - 1.4.1\n"
     ]
    }
   ],
   "source": [
    "import sys, time, pickle, math\n",
    "from collections import OrderedDict\n",
    "from functools import partial\n",
    "\n",
    "print(f\"Python - {'.'.join(str(ver) for ver in sys.version_info[:4])}\\n\")\n",
    "\n",
    "import numpy as np\n",
    "import pandas as pd\n",
    "import matplotlib as mpl\n",
    "import matplotlib.pyplot as plt\n",
    "import seaborn as sns\n",
    "\n",
    "import statsmodels\n",
    "from statsmodels.stats.outliers_influence import variance_inflation_factor\n",
    "from statsmodels.tools.tools import add_constant\n",
    "\n",
    "import sklearn\n",
    "from sklearn.experimental import enable_halving_search_cv\n",
    "from sklearn.model_selection import train_test_split, RepeatedKFold, HalvingGridSearchCV\n",
    "from sklearn.feature_selection import SelectFromModel, SelectKBest, f_regression\n",
    "from sklearn.linear_model import LinearRegression, SGDRegressor\n",
    "from sklearn.svm import SVR\n",
    "from sklearn.neighbors import KNeighborsRegressor\n",
    "from sklearn.gaussian_process import GaussianProcessRegressor\n",
    "from sklearn.naive_bayes import GaussianNB\n",
    "from sklearn.tree import DecisionTreeRegressor\n",
    "from sklearn.ensemble import RandomForestRegressor, AdaBoostRegressor, GradientBoostingRegressor\n",
    "from sklearn.metrics import r2_score, mean_squared_error, mean_absolute_error, mean_absolute_percentage_error, make_scorer\n",
    "from sklearn.pipeline import make_pipeline, Pipeline\n",
    "\n",
    "import xgboost\n",
    "\n",
    "import hyperopt\n",
    "from hyperopt import hp, fmin, tpe, Trials, STATUS_OK\n",
    "from hyperopt.pyll.base import scope\n",
    "\n",
    "from hpsklearn import HyperoptEstimator, random_forest_regressor\n",
    "\n",
    "import geopy\n",
    "from geopy.geocoders import Nominatim\n",
    "import reverse_geocode\n",
    "\n",
    "print(f\"\"\"Libraries:\\n{np.__name__} - {np.__version__}\\n{pd.__name__} - {pd.__version__}\n",
    "{mpl.__name__}, {plt.__name__} - {mpl.__version__}\\n{sns.__name__} - {sns.__version__}\\n{statsmodels.__name__} - {statsmodels.__version__}\n",
    "{sklearn.__name__} - {sklearn.__version__}\\n{xgboost.__name__} - {xgboost.__version__}\\n{hyperopt.__name__} - {hyperopt.__version__}\n",
    "hyperopt-sklearn\\n{geopy.__name__} - {geopy.__version__}\\nreverse_geocode - 1.4.1\"\"\")"
   ]
  },
  {
   "cell_type": "markdown",
   "metadata": {},
   "source": [
    "**0.2. Data Extraction** <a id = \"su-de\"></a>"
   ]
  },
  {
   "cell_type": "code",
   "execution_count": 2,
   "metadata": {},
   "outputs": [],
   "source": [
    "df_clean = pd.read_csv('../data/train_with_features.csv')\n",
    "df_test = pd.read_csv('../data/test_with_features.csv')"
   ]
  },
  {
   "cell_type": "code",
   "execution_count": 3,
   "metadata": {},
   "outputs": [
    {
     "name": "stdout",
     "output_type": "stream",
     "text": [
      "<class 'pandas.core.frame.DataFrame'>\n",
      "RangeIndex: 20149 entries, 0 to 20148\n",
      "Data columns (total 57 columns):\n",
      " #   Column                            Non-Null Count  Dtype  \n",
      "---  ------                            --------------  -----  \n",
      " 0   listing_id                        20149 non-null  int64  \n",
      " 1   title                             20149 non-null  object \n",
      " 2   address                           20149 non-null  object \n",
      " 3   property_name                     20149 non-null  object \n",
      " 4   property_type                     20149 non-null  object \n",
      " 5   tenure                            20149 non-null  object \n",
      " 6   num_beds                          20149 non-null  float64\n",
      " 7   num_baths                         20149 non-null  float64\n",
      " 8   size_sqft                         20149 non-null  float64\n",
      " 9   property_details_url              20149 non-null  object \n",
      " 10  lat                               20149 non-null  float64\n",
      " 11  lng                               20149 non-null  float64\n",
      " 12  subzone                           20149 non-null  object \n",
      " 13  price                             20149 non-null  float64\n",
      " 14  age                               20149 non-null  float64\n",
      " 15  years_remaining                   20149 non-null  float64\n",
      " 16  subzone_area_size                 20149 non-null  float64\n",
      " 17  subzone_population                20149 non-null  int64  \n",
      " 18  planning_area                     20149 non-null  object \n",
      " 19  planning_area_area_size           20149 non-null  float64\n",
      " 20  planning_area_population          20149 non-null  int64  \n",
      " 21  planning_area_population_density  20149 non-null  float64\n",
      " 22  subzone_population_density        20149 non-null  float64\n",
      " 23  subzone_num_pri_sch               20149 non-null  float64\n",
      " 24  planning_area_num_pri_sch         20149 non-null  float64\n",
      " 25  subzone_num_sec_sch               20149 non-null  float64\n",
      " 26  planning_area_num_sec_sch         20149 non-null  float64\n",
      " 27  subzone_num_malls                 20149 non-null  float64\n",
      " 28  planning_area_num_malls           20149 non-null  float64\n",
      " 29  subzone_num_comm                  20149 non-null  float64\n",
      " 30  planning_area_num_comm            20149 non-null  float64\n",
      " 31  subzone_num_BN                    20149 non-null  float64\n",
      " 32  subzone_num_CR                    20149 non-null  float64\n",
      " 33  subzone_num_IEBP                  20149 non-null  float64\n",
      " 34  subzone_num_IHL                   20149 non-null  float64\n",
      " 35  planning_area_num_BN              20149 non-null  float64\n",
      " 36  planning_area_num_CR              20149 non-null  float64\n",
      " 37  planning_area_num_IEBP            20149 non-null  float64\n",
      " 38  planning_area_num_IHL             20149 non-null  float64\n",
      " 39  subzone_num_mrt                   20149 non-null  float64\n",
      " 40  planning_area_num_mrt             20149 non-null  float64\n",
      " 41  subzone_num_cc                    20149 non-null  float64\n",
      " 42  subzone_num_ce                    20149 non-null  float64\n",
      " 43  subzone_num_cg                    20149 non-null  float64\n",
      " 44  subzone_num_dt                    20149 non-null  float64\n",
      " 45  subzone_num_ew                    20149 non-null  float64\n",
      " 46  subzone_num_ne                    20149 non-null  float64\n",
      " 47  subzone_num_ns                    20149 non-null  float64\n",
      " 48  subzone_num_te                    20149 non-null  float64\n",
      " 49  planning_area_num_cc              20149 non-null  float64\n",
      " 50  planning_area_num_ce              20149 non-null  float64\n",
      " 51  planning_area_num_cg              20149 non-null  float64\n",
      " 52  planning_area_num_dt              20149 non-null  float64\n",
      " 53  planning_area_num_ew              20149 non-null  float64\n",
      " 54  planning_area_num_ne              20149 non-null  float64\n",
      " 55  planning_area_num_ns              20149 non-null  float64\n",
      " 56  planning_area_num_te              20149 non-null  float64\n",
      "dtypes: float64(46), int64(3), object(8)\n",
      "memory usage: 8.8+ MB\n"
     ]
    }
   ],
   "source": [
    "df_clean.info()"
   ]
  },
  {
   "cell_type": "code",
   "execution_count": 4,
   "metadata": {},
   "outputs": [
    {
     "name": "stdout",
     "output_type": "stream",
     "text": [
      "Nonnumerical Features: ['title', 'address', 'property_name', 'property_type', 'tenure', 'property_details_url', 'subzone', 'planning_area']\n"
     ]
    }
   ],
   "source": [
    "print(f'Nonnumerical Features: {df_clean.select_dtypes(exclude = [np.number]).columns.to_list()}')"
   ]
  },
  {
   "cell_type": "markdown",
   "metadata": {},
   "source": [
    "**1. EDA** <a id = \"eda\"></a>"
   ]
  },
  {
   "cell_type": "markdown",
   "metadata": {},
   "source": [
    "Out of the 8 nonnumerical features shown above, relevant features to be converted to numerical features during *Feature Extraction* are `property_type` and `tenure`. `subzone` and `planning_area` are relevant features but will be ignored here as derived features are present from the initial feature engineering."
   ]
  },
  {
   "cell_type": "markdown",
   "metadata": {},
   "source": [
    "First, visualise the number of flats for each `property_type`."
   ]
  },
  {
   "cell_type": "code",
   "execution_count": 5,
   "metadata": {},
   "outputs": [
    {
     "data": {
      "image/png": "[encoded data removed]",
      "text/plain": [
       "<Figure size 1800x1000 with 1 Axes>"
      ]
     },
     "metadata": {},
     "output_type": "display_data"
    }
   ],
   "source": [
    "fig, ax = plt.subplots(figsize = (18, 10))\n",
    "property_types = df_clean['property_type'].value_counts().to_frame().reset_index()\n",
    "property_types.columns = ['property_type', 'type_count']\n",
    "\n",
    "ax.set_title('Property Types')\n",
    "sns.barplot(x = 'type_count', y = 'property_type', data = property_types)\n",
    "ax.bar_label(ax.containers[0])\n",
    "\n",
    "plt.show()"
   ]
  },
  {
   "cell_type": "markdown",
   "metadata": {},
   "source": [
    "The bar graph above shows a skewed distribution. We need to check if flats are correctly classified; therefore, check if `property_type` is consistent for a given `property_name`."
   ]
  },
  {
   "cell_type": "code",
   "execution_count": 6,
   "metadata": {},
   "outputs": [
    {
     "data": {
      "text/plain": [
       "hdb-woodlands      312\n",
       "leedon green       308\n",
       "the gazania        287\n",
       "hyll on holland    285\n",
       "riviere            258\n",
       "Name: property_name, dtype: int64"
      ]
     },
     "execution_count": 6,
     "metadata": {},
     "output_type": "execute_result"
    }
   ],
   "source": [
    "df_clean['property_name'].value_counts()[:5]"
   ]
  },
  {
   "cell_type": "code",
   "execution_count": 7,
   "metadata": {},
   "outputs": [
    {
     "data": {
      "text/plain": [
       "condo        307\n",
       "apartment      1\n",
       "Name: property_type, dtype: int64"
      ]
     },
     "execution_count": 7,
     "metadata": {},
     "output_type": "execute_result"
    }
   ],
   "source": [
    "df_clean[df_clean['property_name'] == 'leedon green']['property_type'].value_counts()"
   ]
  },
  {
   "cell_type": "markdown",
   "metadata": {},
   "source": [
    "The `property_type` is not consistent for a given `property_name`. A `property_name` such as `leedon green` must be of a fixed `property_type` (condo), whereas if it is a street name, it can be of multiple `property_type`s (for example, bungalow or landed).\n",
    "\n",
    "During [*Data Pre-Processing*](#dp-pt), we have to ensure that it is consistent, especially for hdb/executive condo/condo/apartment flats."
   ]
  },
  {
   "cell_type": "markdown",
   "metadata": {},
   "source": [
    "Second, visualise the distribution of `tenure`."
   ]
  },
  {
   "cell_type": "code",
   "execution_count": 8,
   "metadata": {},
   "outputs": [
    {
     "data": {
      "image/png": "[encoded data removed]",
      "text/plain": [
       "<Figure size 800x400 with 1 Axes>"
      ]
     },
     "metadata": {},
     "output_type": "display_data"
    }
   ],
   "source": [
    "# Source: matplotlib.org/stable/gallery/pie_and_polar_charts/pie_and_donut_labels.html\n",
    "\n",
    "def func(pct, allvals):\n",
    "    absolute = int(np.round(pct/100.*np.sum(allvals)))\n",
    "    return \"{:.1f}%\\n({:d})\".format(pct, absolute)\n",
    "\n",
    "fig, ax = plt.subplots(figsize = (8, 4))\n",
    "property_tenure = df_clean['tenure'].value_counts().to_frame().reset_index()\n",
    "property_tenure.columns = ['property_tenure', 'tenure_count']\n",
    "\n",
    "ax.set_title('Property Tenures')\n",
    "plt.pie(property_tenure['tenure_count'], labels = property_tenure['property_tenure'], colors = sns.color_palette('pastel'), autopct = lambda pct: func(pct, property_tenure['tenure_count']))\n",
    "\n",
    "plt.show()"
   ]
  },
  {
   "cell_type": "markdown",
   "metadata": {},
   "source": [
    "The pie chart above shows a reasonable distribution as most properties in Singapore are 99-year leasehold.\n",
    "\n",
    "During [*Feature Extraction*](#fe-t), dummy encoding should suffice."
   ]
  },
  {
   "cell_type": "markdown",
   "metadata": {},
   "source": [
    "Next, check if the geographical coordinates (latitude and longitude) of all properties match Singapore by reverse geocoding."
   ]
  },
  {
   "cell_type": "code",
   "execution_count": 9,
   "metadata": {},
   "outputs": [
    {
     "name": "stdout",
     "output_type": "stream",
     "text": [
      "df_clean Initial Countries: ['Singapore', 'Malaysia', 'Philippines', 'United States', 'Norway']\n"
     ]
    }
   ],
   "source": [
    "df_clean['country'] = [result['country'] for result in reverse_geocode.search(df_clean[['lat', 'lng']].agg(tuple, axis = 1).to_list())]\n",
    "print(f'df_clean Initial Countries: {df_clean[\"country\"].value_counts().index.to_list()}')"
   ]
  },
  {
   "cell_type": "markdown",
   "metadata": {},
   "source": [
    "Not all geographical coordinates match Singapore.\n",
    "\n",
    "During [*Data Pre-Processing*](#dp-gc), we have to ensure that it is consistent and all geographical coordinates must match Singapore."
   ]
  },
  {
   "cell_type": "markdown",
   "metadata": {},
   "source": [
    "**2. Data Pre-Processing** <a id = \"dp\"></a>"
   ]
  },
  {
   "cell_type": "markdown",
   "metadata": {},
   "source": [
    "<a id = \"dp-pt\"></a>\n",
    "\n",
    "First, ensure that `property_type` values are consistent for hdb/executive condo/condo/apartment flats by taking the majority `property_type` for each `property_name` that is a hdb/executive condo/condo/apartment flat."
   ]
  },
  {
   "cell_type": "code",
   "execution_count": 10,
   "metadata": {},
   "outputs": [],
   "source": [
    "property_type_dict = {}\n",
    "\n",
    "for property_name, count in df_clean['property_name'].value_counts().items():\n",
    "    property_types = df_clean[df_clean['property_name'] == property_name]['property_type']\n",
    "    majority = property_types.value_counts().sort_values(ascending = False).index[0]\n",
    "\n",
    "    if majority in ['hdb', 'executive condo', 'condo', 'apartment'] and property_types.value_counts().shape[0] > 1:\n",
    "        df_clean.loc[property_types.index, 'property_type'] = majority\n",
    "        property_type_dict[property_name] = majority"
   ]
  },
  {
   "cell_type": "markdown",
   "metadata": {},
   "source": [
    "Apply to `df_test` using the same transformation (`property_type_dict`)."
   ]
  },
  {
   "cell_type": "code",
   "execution_count": 11,
   "metadata": {},
   "outputs": [],
   "source": [
    "for property_name in df_test['property_name'].value_counts().index:\n",
    "    if property_type_dict.get(property_name, None):\n",
    "        property_types = df_test[df_test['property_name'] == property_name]\n",
    "        df_test.loc[property_types.index, 'property_type'] = property_type_dict[property_name]"
   ]
  },
  {
   "cell_type": "markdown",
   "metadata": {},
   "source": [
    "To ensure that the pre-processing `property_type` was appropriate, re-visualise the number of flats for each `property_type`."
   ]
  },
  {
   "cell_type": "code",
   "execution_count": 12,
   "metadata": {},
   "outputs": [
    {
     "data": {
      "image/png": "[encoded data removed]",
      "text/plain": [
       "<Figure size 1800x1000 with 1 Axes>"
      ]
     },
     "metadata": {},
     "output_type": "display_data"
    }
   ],
   "source": [
    "fig, ax = plt.subplots(figsize = (18, 10))\n",
    "property_types = df_clean['property_type'].value_counts().to_frame().reset_index()\n",
    "property_types.columns = ['property_type', 'type_count']\n",
    "\n",
    "ax.set_title('Property Types')\n",
    "sns.barplot(x = 'type_count', y = 'property_type', data = property_types)\n",
    "ax.bar_label(ax.containers[0])\n",
    "\n",
    "plt.show()"
   ]
  },
  {
   "cell_type": "markdown",
   "metadata": {},
   "source": [
    "<a id = \"dp-gc\"></a>\n",
    "\n",
    "Second, ensure that `lat` and `lng` values are consistent and match Singapore by geocoding (using geopy Nominatim's geocode function) the address and property name. If there are no matches, geocode the subzone instead. Exclude Malaysia as Singapore and Malaysia are close to each other and there is no web-based API within `reverse_geocode` library for quick geocoding."
   ]
  },
  {
   "cell_type": "code",
   "execution_count": 13,
   "metadata": {},
   "outputs": [
    {
     "name": "stdout",
     "output_type": "stream",
     "text": [
      "df_clean Final Countries: ['Singapore', 'Malaysia']\n",
      "CPU times: total: 984 ms\n",
      "Wall time: 4.98 s\n"
     ]
    }
   ],
   "source": [
    "%%time\n",
    "geolocator = Nominatim(user_agent = 'task1', timeout = 2) # Increase timeout if GeocoderTimedOut error\n",
    "property_coord_dict = {}\n",
    "\n",
    "for index in df_clean[~df_clean['country'].isin(['Singapore', 'Malaysia'])].index:\n",
    "    get_coord = property_coord_dict.get(df_clean.loc[index, 'property_name'], None)\n",
    "    if get_coord:\n",
    "        df_clean.loc[index, 'lat'] = get_coord['lat']\n",
    "        df_clean.loc[index, 'lng'] = get_coord['lon']\n",
    "        continue\n",
    "    \n",
    "    query = df_clean.loc[index, 'property_name'] + ' ' + df_clean.loc[index, 'address'] + ' Singapore'\n",
    "    result = geolocator.geocode(query)\n",
    "    \n",
    "    if not result:\n",
    "        query = df_clean.loc[index, 'subzone'] + ' Singapore'\n",
    "        result = geolocator.geocode(query)\n",
    "    \n",
    "    if result:\n",
    "        result = result.raw\n",
    "        df_clean.loc[index, 'lat'] = float(result['lat'])\n",
    "        df_clean.loc[index, 'lng'] = float(result['lon'])\n",
    "        property_coord_dict[df_clean.loc[index, 'property_name']] = {'lat': float(result['lat']), 'lon': float(result['lon'])}\n",
    "        \n",
    "df_clean['country'] = [result['country'] for result in reverse_geocode.search(df_clean[['lat', 'lng']].agg(tuple, axis = 1).to_list())]\n",
    "print(f'df_clean Final Countries: {df_clean[\"country\"].value_counts().index.to_list()}')\n",
    "df_clean.drop('country', axis = 1, inplace = True)"
   ]
  },
  {
   "cell_type": "markdown",
   "metadata": {},
   "source": [
    "Now that all geographical coordinates match Singapore, apply to  `df_test` using the same transformation (`property_coord_dict`)."
   ]
  },
  {
   "cell_type": "code",
   "execution_count": 14,
   "metadata": {},
   "outputs": [
    {
     "name": "stdout",
     "output_type": "stream",
     "text": [
      "df_test Initial Countries: ['Singapore', 'Malaysia', 'Philippines', 'United States', 'Norway']\n",
      "df_test Final Countries: ['Singapore', 'Malaysia']\n"
     ]
    }
   ],
   "source": [
    "df_test['country'] = [result['country'] for result in reverse_geocode.search(df_test[['lat', 'lng']].agg(tuple, axis = 1).to_list())]\n",
    "print(f'df_test Initial Countries: {df_test[\"country\"].value_counts().index.to_list()}')\n",
    "\n",
    "for index in df_test[~df_test['country'].isin(['Singapore', 'Malaysia'])].index:\n",
    "    coord = property_coord_dict[df_test.loc[index, 'property_name']]\n",
    "    df_test.loc[index, 'lat'] = coord['lat']\n",
    "    df_test.loc[index, 'lng'] = coord['lon']\n",
    "    \n",
    "df_test['country'] = [result['country'] for result in reverse_geocode.search(df_test[['lat', 'lng']].agg(tuple, axis = 1).to_list())]\n",
    "print(f'df_test Final Countries: {df_test[\"country\"].value_counts().index.to_list()}')\n",
    "df_test.drop('country', axis = 1, inplace = True)"
   ]
  },
  {
   "cell_type": "markdown",
   "metadata": {},
   "source": [
    "**3. Feature Engineering** <a id = \"fe\"></a>"
   ]
  },
  {
   "cell_type": "markdown",
   "metadata": {},
   "source": [
    "**3.1. Feature Extraction** <a id = \"fe-fx\"></a>"
   ]
  },
  {
   "cell_type": "markdown",
   "metadata": {},
   "source": [
    "After *Data Pre-Processing*, visualise the distribution of `price`s for each `property_type`."
   ]
  },
  {
   "cell_type": "code",
   "execution_count": 15,
   "metadata": {},
   "outputs": [
    {
     "data": {
      "image/png": "[encoded data removed]",
      "text/plain": [
       "<Figure size 1400x1000 with 1 Axes>"
      ]
     },
     "metadata": {},
     "output_type": "display_data"
    }
   ],
   "source": [
    "fig, ax = plt.subplots(figsize = (14, 10))\n",
    "ax.ticklabel_format(style = 'plain', axis = 'y')\n",
    "ax.tick_params(axis = 'x', rotation = 90)\n",
    "\n",
    "ax.set_title('Property Types vs Price')\n",
    "sns.boxplot(x = 'property_type', y = 'price', data = df_clean)\n",
    "\n",
    "plt.show()"
   ]
  },
  {
   "cell_type": "markdown",
   "metadata": {},
   "source": [
    "Referring to the box plot above, there are `property_type` values with similar price distributions. Group similar distributions to reduce data cardinality before encoding."
   ]
  },
  {
   "cell_type": "code",
   "execution_count": 16,
   "metadata": {},
   "outputs": [],
   "source": [
    "df_clean['property_type'].replace(['executive condo', 'walk-up', 'shophouse'], \n",
    "                                  'executive condo/walk-up/shophouse', inplace = True)\n",
    "df_clean['property_type'].replace(['condo', 'apartment'], \n",
    "                                  'condo/apartment', inplace = True)\n",
    "df_clean['property_type'].replace(['terraced house', 'cluster house', 'townhouse'], \n",
    "                                  'terraced house/cluster house/townhouse', inplace = True)\n",
    "df_clean['property_type'].replace(['corner terrace', 'landed'], \n",
    "                                  'corner terrace/landed', inplace = True)\n",
    "df_clean['property_type'].replace(['semi-detached house', 'conservation house'], \n",
    "                                  'semi-detached house/conservation house', inplace = True)"
   ]
  },
  {
   "cell_type": "markdown",
   "metadata": {},
   "source": [
    "Apply to `df_test` using the same groupings of similar distributions."
   ]
  },
  {
   "cell_type": "code",
   "execution_count": 17,
   "metadata": {},
   "outputs": [],
   "source": [
    "df_test['property_type'].replace(['executive condo', 'walk-up', 'shophouse'], \n",
    "                                  'executive condo/walk-up/shophouse', inplace = True)\n",
    "df_test['property_type'].replace(['condo', 'apartment'], \n",
    "                                  'condo/apartment', inplace = True)\n",
    "df_test['property_type'].replace(['terraced house', 'cluster house', 'townhouse'], \n",
    "                                  'terraced house/cluster house/townhouse', inplace = True)\n",
    "df_test['property_type'].replace(['corner terrace', 'landed'], \n",
    "                                  'corner terrace/landed', inplace = True)\n",
    "df_test['property_type'].replace(['semi-detached house', 'conservation house'], \n",
    "                                  'semi-detached house/conservation house', inplace = True)"
   ]
  },
  {
   "cell_type": "markdown",
   "metadata": {},
   "source": [
    "Perform label (ordinal) encoding for `property_type` due to its high cardinality (performing one-hot encoding will significantly increase data dimensionality). Create categories in ascending order based on mean price of each property type."
   ]
  },
  {
   "cell_type": "code",
   "execution_count": 18,
   "metadata": {},
   "outputs": [
    {
     "data": {
      "text/plain": [
       "property_type\n",
       "hdb                                       1\n",
       "executive condo/walk-up/shophouse         2\n",
       "condo/apartment                           3\n",
       "terraced house/cluster house/townhouse    4\n",
       "corner terrace/landed                     5\n",
       "semi-detached house/conservation house    6\n",
       "bungalow                                  7\n",
       "good class bungalow                       8\n",
       "land only                                 9\n",
       "Name: index, dtype: int64"
      ]
     },
     "execution_count": 18,
     "metadata": {},
     "output_type": "execute_result"
    }
   ],
   "source": [
    "encode_categories = df_clean['price'].groupby(df_clean['property_type']).mean().sort_values().reset_index().drop('price', axis = 1).reset_index()\n",
    "encode_categories['index'] += 1\n",
    "encode_categories = encode_categories.set_index('property_type').squeeze()\n",
    "encode_categories"
   ]
  },
  {
   "cell_type": "markdown",
   "metadata": {},
   "source": [
    "The above ordinal encoding makes sense from the lowest price (hdb) to the highest price (land only). Perform ordinal encoding."
   ]
  },
  {
   "cell_type": "code",
   "execution_count": 19,
   "metadata": {},
   "outputs": [
    {
     "data": {
      "text/plain": [
       "0        1\n",
       "1        1\n",
       "2        3\n",
       "3        3\n",
       "4        3\n",
       "        ..\n",
       "20144    3\n",
       "20145    3\n",
       "20146    3\n",
       "20147    1\n",
       "20148    3\n",
       "Name: property_type, Length: 20149, dtype: int64"
      ]
     },
     "execution_count": 19,
     "metadata": {},
     "output_type": "execute_result"
    }
   ],
   "source": [
    "df_clean['property_type'] = df_clean['property_type'].map(encode_categories)\n",
    "df_clean['property_type']"
   ]
  },
  {
   "cell_type": "markdown",
   "metadata": {},
   "source": [
    "Apply to `df_test` using the same ordinal encoding (`encode_categories`)."
   ]
  },
  {
   "cell_type": "code",
   "execution_count": 20,
   "metadata": {},
   "outputs": [],
   "source": [
    "df_test['property_type'] = df_test['property_type'].map(encode_categories)"
   ]
  },
  {
   "cell_type": "markdown",
   "metadata": {},
   "source": [
    "<a id = \"fe-t\"></a>\n",
    "\n",
    "Next, perform dummy encoding for `tenure` and rename to `999-year leasehold` as there are only 2 unique values. One-hot encoding may not be necessary."
   ]
  },
  {
   "cell_type": "code",
   "execution_count": 21,
   "metadata": {
    "scrolled": true
   },
   "outputs": [
    {
     "data": {
      "text/plain": [
       "0        0\n",
       "1        0\n",
       "2        1\n",
       "3        1\n",
       "4        0\n",
       "        ..\n",
       "20144    0\n",
       "20145    1\n",
       "20146    1\n",
       "20147    0\n",
       "20148    1\n",
       "Name: 999-year leasehold, Length: 20149, dtype: uint8"
      ]
     },
     "execution_count": 21,
     "metadata": {},
     "output_type": "execute_result"
    }
   ],
   "source": [
    "df_clean['tenure'] = pd.get_dummies(df_clean['tenure'], drop_first = True).squeeze()\n",
    "df_clean.rename(columns = {'tenure': '999-year leasehold'}, inplace = True)\n",
    "df_clean['999-year leasehold']"
   ]
  },
  {
   "cell_type": "markdown",
   "metadata": {},
   "source": [
    "Apply to `df_test` using the same dummy encoding."
   ]
  },
  {
   "cell_type": "code",
   "execution_count": 22,
   "metadata": {},
   "outputs": [],
   "source": [
    "df_test['tenure'] = pd.get_dummies(df_test['tenure'], drop_first = True).squeeze()\n",
    "df_test.rename(columns = {'tenure': '999-year leasehold'}, inplace = True)"
   ]
  },
  {
   "cell_type": "markdown",
   "metadata": {},
   "source": [
    "After *Feature Extraction*, `df_clean` and `df_test` should only contain numeric values as `Task 1` is a `regression` task. Furthermore, remove `listing_id` as it is a nominal attribute."
   ]
  },
  {
   "cell_type": "code",
   "execution_count": 23,
   "metadata": {},
   "outputs": [],
   "source": [
    "df_clean = df_clean.select_dtypes(include = [np.number])\n",
    "df_clean.drop('listing_id', axis = 1, inplace = True)\n",
    "\n",
    "df_test = df_test.select_dtypes(include = [np.number])\n",
    "df_test.drop('listing_id', axis = 1, inplace = True)"
   ]
  },
  {
   "cell_type": "markdown",
   "metadata": {},
   "source": [
    "**3.2. Feature Selection** <a id = \"fe-fs\"></a>"
   ]
  },
  {
   "cell_type": "markdown",
   "metadata": {},
   "source": [
    "After *Feature Extraction*, plot a heatmap to visually inspect (and later remove) features that are highly correlated (lightest/darkest colour) with each other."
   ]
  },
  {
   "cell_type": "code",
   "execution_count": 24,
   "metadata": {},
   "outputs": [
    {
     "data": {
      "image/png": "[encoded data removed]",
      "text/plain": [
       "<Figure size 1600x1200 with 2 Axes>"
      ]
     },
     "metadata": {},
     "output_type": "display_data"
    }
   ],
   "source": [
    "fig, ax = plt.subplots(figsize = (16, 12))\n",
    "\n",
    "ax.set_title('Correlation Between Features')\n",
    "sns.heatmap(df_clean.corr(), mask = np.triu(df_clean.corr()))\n",
    "\n",
    "plt.show()"
   ]
  },
  {
   "cell_type": "markdown",
   "metadata": {},
   "source": [
    "Find out feature pairs that are highly correlated. Set the threshold to `0.7`, so a feature pair is considered highly correlated if its correlation threshold is greater than `0.7`."
   ]
  },
  {
   "cell_type": "code",
   "execution_count": 25,
   "metadata": {},
   "outputs": [
    {
     "data": {
      "text/plain": [
       "years_remaining                   999-year leasehold                  0.999423\n",
       "planning_area_population          planning_area_num_pri_sch           0.947705\n",
       "planning_area_num_sec_sch         planning_area_population            0.900357\n",
       "planning_area_num_pri_sch         planning_area_num_sec_sch           0.871341\n",
       "subzone_num_pri_sch               subzone_population                  0.868160\n",
       "planning_area_num_comm            planning_area_num_IEBP              0.851642\n",
       "num_beds                          num_baths                           0.841702\n",
       "subzone_num_comm                  subzone_num_BN                      0.761454\n",
       "num_baths                         size_sqft                           0.756781\n",
       "planning_area_population_density  planning_area_population            0.746504\n",
       "planning_area_num_IHL             planning_area_num_comm              0.745321\n",
       "subzone_population                subzone_num_sec_sch                 0.735582\n",
       "                                  subzone_population_density          0.721578\n",
       "planning_area_num_pri_sch         planning_area_population_density    0.715380\n",
       "planning_area_population          subzone_population                  0.706949\n",
       "subzone_num_sec_sch               subzone_num_pri_sch                 0.700455\n",
       "dtype: float64"
      ]
     },
     "execution_count": 25,
     "metadata": {},
     "output_type": "execute_result"
    }
   ],
   "source": [
    "correlation_pairs = abs(df_clean.corr()).unstack().sort_values(ascending = False)[df_clean.shape[1]:]\n",
    "correlation_pairs = correlation_pairs[correlation_pairs > 0.7]\n",
    "correlation_pairs = correlation_pairs[~pd.DataFrame(np.sort(np.array(correlation_pairs.index.tolist()))).duplicated().values]\n",
    "correlation_pairs"
   ]
  },
  {
   "cell_type": "code",
   "execution_count": 26,
   "metadata": {},
   "outputs": [
    {
     "name": "stdout",
     "output_type": "stream",
     "text": [
      "Highly correlated features (18): ['years_remaining', '999-year leasehold', 'planning_area_population', 'planning_area_num_pri_sch', 'planning_area_num_sec_sch', 'subzone_num_pri_sch', 'subzone_population', 'planning_area_num_comm', 'planning_area_num_IEBP', 'num_beds', 'num_baths', 'subzone_num_comm', 'subzone_num_BN', 'size_sqft', 'planning_area_population_density', 'planning_area_num_IHL', 'subzone_num_sec_sch', 'subzone_population_density']\n"
     ]
    }
   ],
   "source": [
    "correlated_features = list(OrderedDict.fromkeys([item for sublist in correlation_pairs.index for item in sublist]))\n",
    "print(f'Highly correlated features ({len(correlated_features)}): {correlated_features}')"
   ]
  },
  {
   "cell_type": "markdown",
   "metadata": {},
   "source": [
    "To remove highly correlated features accurately, we will calculate the Variance Inflation Factor (VIF) between highly correlated features. Here, we consider a `VIF threshold` of greater than `10` as an indicator of multicollinearity. Repeat calculating the VIF and removing features one by one until all VIF values are less than `10`."
   ]
  },
  {
   "cell_type": "code",
   "execution_count": 27,
   "metadata": {},
   "outputs": [],
   "source": [
    "def calculate_vif(features):\n",
    "    df = add_constant(df_clean[features])\n",
    "    df = pd.DataFrame([[df.columns[i], variance_inflation_factor(df.values, i)] for i in range(len(df.columns))], columns = ['Feature', 'VIF'])\n",
    "    return df[df['Feature'] != 'const'].sort_values('VIF', ascending = False)"
   ]
  },
  {
   "cell_type": "code",
   "execution_count": 28,
   "metadata": {},
   "outputs": [
    {
     "data": {
      "text/html": [
       "<div>\n",
       "<style scoped>\n",
       "    .dataframe tbody tr th:only-of-type {\n",
       "        vertical-align: middle;\n",
       "    }\n",
       "\n",
       "    .dataframe tbody tr th {\n",
       "        vertical-align: top;\n",
       "    }\n",
       "\n",
       "    .dataframe thead th {\n",
       "        text-align: right;\n",
       "    }\n",
       "</style>\n",
       "<table border=\"1\" class=\"dataframe\">\n",
       "  <thead>\n",
       "    <tr style=\"text-align: right;\">\n",
       "      <th></th>\n",
       "      <th>Feature</th>\n",
       "      <th>VIF</th>\n",
       "    </tr>\n",
       "  </thead>\n",
       "  <tbody>\n",
       "    <tr>\n",
       "      <th>1</th>\n",
       "      <td>years_remaining</td>\n",
       "      <td>1046.666022</td>\n",
       "    </tr>\n",
       "    <tr>\n",
       "      <th>2</th>\n",
       "      <td>999-year leasehold</td>\n",
       "      <td>1040.333630</td>\n",
       "    </tr>\n",
       "    <tr>\n",
       "      <th>3</th>\n",
       "      <td>planning_area_population</td>\n",
       "      <td>21.127548</td>\n",
       "    </tr>\n",
       "    <tr>\n",
       "      <th>4</th>\n",
       "      <td>planning_area_num_pri_sch</td>\n",
       "      <td>12.533045</td>\n",
       "    </tr>\n",
       "    <tr>\n",
       "      <th>7</th>\n",
       "      <td>subzone_population</td>\n",
       "      <td>8.194109</td>\n",
       "    </tr>\n",
       "    <tr>\n",
       "      <th>5</th>\n",
       "      <td>planning_area_num_sec_sch</td>\n",
       "      <td>7.422910</td>\n",
       "    </tr>\n",
       "    <tr>\n",
       "      <th>8</th>\n",
       "      <td>planning_area_num_comm</td>\n",
       "      <td>7.375868</td>\n",
       "    </tr>\n",
       "    <tr>\n",
       "      <th>9</th>\n",
       "      <td>planning_area_num_IEBP</td>\n",
       "      <td>5.162019</td>\n",
       "    </tr>\n",
       "    <tr>\n",
       "      <th>6</th>\n",
       "      <td>subzone_num_pri_sch</td>\n",
       "      <td>4.953759</td>\n",
       "    </tr>\n",
       "    <tr>\n",
       "      <th>11</th>\n",
       "      <td>num_baths</td>\n",
       "      <td>4.853620</td>\n",
       "    </tr>\n",
       "    <tr>\n",
       "      <th>10</th>\n",
       "      <td>num_beds</td>\n",
       "      <td>3.968337</td>\n",
       "    </tr>\n",
       "    <tr>\n",
       "      <th>18</th>\n",
       "      <td>subzone_population_density</td>\n",
       "      <td>3.453226</td>\n",
       "    </tr>\n",
       "    <tr>\n",
       "      <th>13</th>\n",
       "      <td>subzone_num_BN</td>\n",
       "      <td>3.443224</td>\n",
       "    </tr>\n",
       "    <tr>\n",
       "      <th>12</th>\n",
       "      <td>subzone_num_comm</td>\n",
       "      <td>3.419669</td>\n",
       "    </tr>\n",
       "    <tr>\n",
       "      <th>15</th>\n",
       "      <td>planning_area_population_density</td>\n",
       "      <td>3.265864</td>\n",
       "    </tr>\n",
       "    <tr>\n",
       "      <th>16</th>\n",
       "      <td>planning_area_num_IHL</td>\n",
       "      <td>2.978610</td>\n",
       "    </tr>\n",
       "    <tr>\n",
       "      <th>17</th>\n",
       "      <td>subzone_num_sec_sch</td>\n",
       "      <td>2.766452</td>\n",
       "    </tr>\n",
       "    <tr>\n",
       "      <th>14</th>\n",
       "      <td>size_sqft</td>\n",
       "      <td>2.550570</td>\n",
       "    </tr>\n",
       "  </tbody>\n",
       "</table>\n",
       "</div>"
      ],
      "text/plain": [
       "                             Feature          VIF\n",
       "1                    years_remaining  1046.666022\n",
       "2                 999-year leasehold  1040.333630\n",
       "3           planning_area_population    21.127548\n",
       "4          planning_area_num_pri_sch    12.533045\n",
       "7                 subzone_population     8.194109\n",
       "5          planning_area_num_sec_sch     7.422910\n",
       "8             planning_area_num_comm     7.375868\n",
       "9             planning_area_num_IEBP     5.162019\n",
       "6                subzone_num_pri_sch     4.953759\n",
       "11                         num_baths     4.853620\n",
       "10                          num_beds     3.968337\n",
       "18        subzone_population_density     3.453226\n",
       "13                    subzone_num_BN     3.443224\n",
       "12                  subzone_num_comm     3.419669\n",
       "15  planning_area_population_density     3.265864\n",
       "16             planning_area_num_IHL     2.978610\n",
       "17               subzone_num_sec_sch     2.766452\n",
       "14                         size_sqft     2.550570"
      ]
     },
     "execution_count": 28,
     "metadata": {},
     "output_type": "execute_result"
    }
   ],
   "source": [
    "calculate_vif(correlated_features)"
   ]
  },
  {
   "cell_type": "markdown",
   "metadata": {},
   "source": [
    "Firstly, `years_remaining` and `999-year leasehold` have extremely high VIF values. In this case, `999-year leasehold` will be removed first as `years_remaining` may provide more information about a listing."
   ]
  },
  {
   "cell_type": "code",
   "execution_count": 29,
   "metadata": {},
   "outputs": [
    {
     "data": {
      "text/html": [
       "<div>\n",
       "<style scoped>\n",
       "    .dataframe tbody tr th:only-of-type {\n",
       "        vertical-align: middle;\n",
       "    }\n",
       "\n",
       "    .dataframe tbody tr th {\n",
       "        vertical-align: top;\n",
       "    }\n",
       "\n",
       "    .dataframe thead th {\n",
       "        text-align: right;\n",
       "    }\n",
       "</style>\n",
       "<table border=\"1\" class=\"dataframe\">\n",
       "  <thead>\n",
       "    <tr style=\"text-align: right;\">\n",
       "      <th></th>\n",
       "      <th>Feature</th>\n",
       "      <th>VIF</th>\n",
       "    </tr>\n",
       "  </thead>\n",
       "  <tbody>\n",
       "    <tr>\n",
       "      <th>2</th>\n",
       "      <td>planning_area_population</td>\n",
       "      <td>21.024207</td>\n",
       "    </tr>\n",
       "    <tr>\n",
       "      <th>3</th>\n",
       "      <td>planning_area_num_pri_sch</td>\n",
       "      <td>12.480403</td>\n",
       "    </tr>\n",
       "    <tr>\n",
       "      <th>6</th>\n",
       "      <td>subzone_population</td>\n",
       "      <td>8.104325</td>\n",
       "    </tr>\n",
       "    <tr>\n",
       "      <th>4</th>\n",
       "      <td>planning_area_num_sec_sch</td>\n",
       "      <td>7.398560</td>\n",
       "    </tr>\n",
       "    <tr>\n",
       "      <th>7</th>\n",
       "      <td>planning_area_num_comm</td>\n",
       "      <td>7.323649</td>\n",
       "    </tr>\n",
       "    <tr>\n",
       "      <th>8</th>\n",
       "      <td>planning_area_num_IEBP</td>\n",
       "      <td>5.106876</td>\n",
       "    </tr>\n",
       "    <tr>\n",
       "      <th>5</th>\n",
       "      <td>subzone_num_pri_sch</td>\n",
       "      <td>4.924417</td>\n",
       "    </tr>\n",
       "    <tr>\n",
       "      <th>10</th>\n",
       "      <td>num_baths</td>\n",
       "      <td>4.789015</td>\n",
       "    </tr>\n",
       "    <tr>\n",
       "      <th>9</th>\n",
       "      <td>num_beds</td>\n",
       "      <td>3.937835</td>\n",
       "    </tr>\n",
       "    <tr>\n",
       "      <th>12</th>\n",
       "      <td>subzone_num_BN</td>\n",
       "      <td>3.422664</td>\n",
       "    </tr>\n",
       "    <tr>\n",
       "      <th>11</th>\n",
       "      <td>subzone_num_comm</td>\n",
       "      <td>3.396390</td>\n",
       "    </tr>\n",
       "    <tr>\n",
       "      <th>17</th>\n",
       "      <td>subzone_population_density</td>\n",
       "      <td>3.329181</td>\n",
       "    </tr>\n",
       "    <tr>\n",
       "      <th>14</th>\n",
       "      <td>planning_area_population_density</td>\n",
       "      <td>3.248976</td>\n",
       "    </tr>\n",
       "    <tr>\n",
       "      <th>15</th>\n",
       "      <td>planning_area_num_IHL</td>\n",
       "      <td>2.970875</td>\n",
       "    </tr>\n",
       "    <tr>\n",
       "      <th>16</th>\n",
       "      <td>subzone_num_sec_sch</td>\n",
       "      <td>2.765923</td>\n",
       "    </tr>\n",
       "    <tr>\n",
       "      <th>13</th>\n",
       "      <td>size_sqft</td>\n",
       "      <td>2.448989</td>\n",
       "    </tr>\n",
       "    <tr>\n",
       "      <th>1</th>\n",
       "      <td>years_remaining</td>\n",
       "      <td>1.350139</td>\n",
       "    </tr>\n",
       "  </tbody>\n",
       "</table>\n",
       "</div>"
      ],
      "text/plain": [
       "                             Feature        VIF\n",
       "2           planning_area_population  21.024207\n",
       "3          planning_area_num_pri_sch  12.480403\n",
       "6                 subzone_population   8.104325\n",
       "4          planning_area_num_sec_sch   7.398560\n",
       "7             planning_area_num_comm   7.323649\n",
       "8             planning_area_num_IEBP   5.106876\n",
       "5                subzone_num_pri_sch   4.924417\n",
       "10                         num_baths   4.789015\n",
       "9                           num_beds   3.937835\n",
       "12                    subzone_num_BN   3.422664\n",
       "11                  subzone_num_comm   3.396390\n",
       "17        subzone_population_density   3.329181\n",
       "14  planning_area_population_density   3.248976\n",
       "15             planning_area_num_IHL   2.970875\n",
       "16               subzone_num_sec_sch   2.765923\n",
       "13                         size_sqft   2.448989\n",
       "1                    years_remaining   1.350139"
      ]
     },
     "execution_count": 29,
     "metadata": {},
     "output_type": "execute_result"
    }
   ],
   "source": [
    "correlated_features.remove('999-year leasehold')\n",
    "calculate_vif(correlated_features)"
   ]
  },
  {
   "cell_type": "markdown",
   "metadata": {},
   "source": [
    "Next, remove `planning_area_population` as it indicates the highest VIF value."
   ]
  },
  {
   "cell_type": "code",
   "execution_count": 30,
   "metadata": {},
   "outputs": [
    {
     "data": {
      "text/html": [
       "<div>\n",
       "<style scoped>\n",
       "    .dataframe tbody tr th:only-of-type {\n",
       "        vertical-align: middle;\n",
       "    }\n",
       "\n",
       "    .dataframe tbody tr th {\n",
       "        vertical-align: top;\n",
       "    }\n",
       "\n",
       "    .dataframe thead th {\n",
       "        text-align: right;\n",
       "    }\n",
       "</style>\n",
       "<table border=\"1\" class=\"dataframe\">\n",
       "  <thead>\n",
       "    <tr style=\"text-align: right;\">\n",
       "      <th></th>\n",
       "      <th>Feature</th>\n",
       "      <th>VIF</th>\n",
       "    </tr>\n",
       "  </thead>\n",
       "  <tbody>\n",
       "    <tr>\n",
       "      <th>2</th>\n",
       "      <td>planning_area_num_pri_sch</td>\n",
       "      <td>7.458687</td>\n",
       "    </tr>\n",
       "    <tr>\n",
       "      <th>6</th>\n",
       "      <td>planning_area_num_comm</td>\n",
       "      <td>7.242924</td>\n",
       "    </tr>\n",
       "    <tr>\n",
       "      <th>5</th>\n",
       "      <td>subzone_population</td>\n",
       "      <td>6.760772</td>\n",
       "    </tr>\n",
       "    <tr>\n",
       "      <th>3</th>\n",
       "      <td>planning_area_num_sec_sch</td>\n",
       "      <td>5.237830</td>\n",
       "    </tr>\n",
       "    <tr>\n",
       "      <th>7</th>\n",
       "      <td>planning_area_num_IEBP</td>\n",
       "      <td>4.789375</td>\n",
       "    </tr>\n",
       "    <tr>\n",
       "      <th>9</th>\n",
       "      <td>num_baths</td>\n",
       "      <td>4.788312</td>\n",
       "    </tr>\n",
       "    <tr>\n",
       "      <th>4</th>\n",
       "      <td>subzone_num_pri_sch</td>\n",
       "      <td>4.787635</td>\n",
       "    </tr>\n",
       "    <tr>\n",
       "      <th>8</th>\n",
       "      <td>num_beds</td>\n",
       "      <td>3.937828</td>\n",
       "    </tr>\n",
       "    <tr>\n",
       "      <th>10</th>\n",
       "      <td>subzone_num_comm</td>\n",
       "      <td>3.396006</td>\n",
       "    </tr>\n",
       "    <tr>\n",
       "      <th>11</th>\n",
       "      <td>subzone_num_BN</td>\n",
       "      <td>3.393506</td>\n",
       "    </tr>\n",
       "    <tr>\n",
       "      <th>16</th>\n",
       "      <td>subzone_population_density</td>\n",
       "      <td>3.179351</td>\n",
       "    </tr>\n",
       "    <tr>\n",
       "      <th>14</th>\n",
       "      <td>planning_area_num_IHL</td>\n",
       "      <td>2.968587</td>\n",
       "    </tr>\n",
       "    <tr>\n",
       "      <th>15</th>\n",
       "      <td>subzone_num_sec_sch</td>\n",
       "      <td>2.699063</td>\n",
       "    </tr>\n",
       "    <tr>\n",
       "      <th>13</th>\n",
       "      <td>planning_area_population_density</td>\n",
       "      <td>2.665453</td>\n",
       "    </tr>\n",
       "    <tr>\n",
       "      <th>12</th>\n",
       "      <td>size_sqft</td>\n",
       "      <td>2.448984</td>\n",
       "    </tr>\n",
       "    <tr>\n",
       "      <th>1</th>\n",
       "      <td>years_remaining</td>\n",
       "      <td>1.344408</td>\n",
       "    </tr>\n",
       "  </tbody>\n",
       "</table>\n",
       "</div>"
      ],
      "text/plain": [
       "                             Feature       VIF\n",
       "2          planning_area_num_pri_sch  7.458687\n",
       "6             planning_area_num_comm  7.242924\n",
       "5                 subzone_population  6.760772\n",
       "3          planning_area_num_sec_sch  5.237830\n",
       "7             planning_area_num_IEBP  4.789375\n",
       "9                          num_baths  4.788312\n",
       "4                subzone_num_pri_sch  4.787635\n",
       "8                           num_beds  3.937828\n",
       "10                  subzone_num_comm  3.396006\n",
       "11                    subzone_num_BN  3.393506\n",
       "16        subzone_population_density  3.179351\n",
       "14             planning_area_num_IHL  2.968587\n",
       "15               subzone_num_sec_sch  2.699063\n",
       "13  planning_area_population_density  2.665453\n",
       "12                         size_sqft  2.448984\n",
       "1                    years_remaining  1.344408"
      ]
     },
     "execution_count": 30,
     "metadata": {},
     "output_type": "execute_result"
    }
   ],
   "source": [
    "correlated_features.remove('planning_area_population')\n",
    "calculate_vif(correlated_features)"
   ]
  },
  {
   "cell_type": "markdown",
   "metadata": {},
   "source": [
    "As all VIF values are less than the threshold of `10`, we assume that all strongly correlated features, i.e., `999-year leasehold` and `planning_area_population`, have been removed. Next, remove these features from `df_clean` and `df_test` before further feature selection."
   ]
  },
  {
   "cell_type": "code",
   "execution_count": 31,
   "metadata": {},
   "outputs": [],
   "source": [
    "df_clean.drop(['999-year leasehold', 'planning_area_population'], axis = 1, inplace = True)\n",
    "df_test.drop(['999-year leasehold', 'planning_area_population'], axis = 1, inplace = True)"
   ]
  },
  {
   "cell_type": "markdown",
   "metadata": {},
   "source": [
    "Get correlation values between price and features."
   ]
  },
  {
   "cell_type": "code",
   "execution_count": 32,
   "metadata": {},
   "outputs": [
    {
     "data": {
      "text/plain": [
       "price                               1.000000\n",
       "size_sqft                           0.678637\n",
       "property_type                       0.609702\n",
       "num_baths                           0.596097\n",
       "num_beds                            0.496626\n",
       "subzone_population_density          0.334047\n",
       "years_remaining                     0.302958\n",
       "planning_area_population_density    0.281152\n",
       "planning_area_num_pri_sch           0.256369\n",
       "lat                                 0.247677\n",
       "subzone_population                  0.241106\n",
       "planning_area_num_sec_sch           0.226813\n",
       "subzone_num_pri_sch                 0.196281\n",
       "subzone_num_sec_sch                 0.154474\n",
       "planning_area_area_size             0.120211\n",
       "planning_area_num_comm              0.116276\n",
       "planning_area_num_te                0.116117\n",
       "planning_area_num_IEBP              0.109590\n",
       "planning_area_num_ne                0.099760\n",
       "planning_area_num_ns                0.087436\n",
       "planning_area_num_dt                0.083041\n",
       "planning_area_num_IHL               0.072359\n",
       "subzone_area_size                   0.071881\n",
       "subzone_num_malls                   0.071600\n",
       "planning_area_num_ce                0.070624\n",
       "planning_area_num_ew                0.065273\n",
       "subzone_num_CR                      0.051476\n",
       "planning_area_num_mrt               0.048771\n",
       "planning_area_num_cg                0.048280\n",
       "subzone_num_ew                      0.046255\n",
       "subzone_num_ce                      0.045780\n",
       "subzone_num_cg                      0.043446\n",
       "planning_area_num_BN                0.037609\n",
       "subzone_num_comm                    0.035589\n",
       "planning_area_num_CR                0.035052\n",
       "subzone_num_dt                      0.034110\n",
       "age                                 0.031300\n",
       "subzone_num_BN                      0.030196\n",
       "subzone_num_ns                      0.028818\n",
       "subzone_num_IEBP                    0.024932\n",
       "planning_area_num_cc                0.023103\n",
       "planning_area_num_malls             0.020860\n",
       "subzone_num_te                      0.016458\n",
       "subzone_num_IHL                     0.013612\n",
       "lng                                 0.012840\n",
       "subzone_num_cc                      0.009746\n",
       "subzone_num_ne                      0.007815\n",
       "subzone_num_mrt                     0.007771\n",
       "Name: price, dtype: float64"
      ]
     },
     "execution_count": 32,
     "metadata": {},
     "output_type": "execute_result"
    }
   ],
   "source": [
    "correlation = abs(df_clean.corr(numeric_only = True)['price']).sort_values(ascending = False)\n",
    "correlation"
   ]
  },
  {
   "cell_type": "markdown",
   "metadata": {},
   "source": [
    "To determine the best model for further feature selection, select the top 10 features based on its correlation with price."
   ]
  },
  {
   "cell_type": "code",
   "execution_count": 33,
   "metadata": {},
   "outputs": [
    {
     "data": {
      "text/plain": [
       "['price',\n",
       " 'size_sqft',\n",
       " 'property_type',\n",
       " 'num_baths',\n",
       " 'num_beds',\n",
       " 'subzone_population_density',\n",
       " 'years_remaining',\n",
       " 'planning_area_population_density',\n",
       " 'planning_area_num_pri_sch',\n",
       " 'lat',\n",
       " 'subzone_population']"
      ]
     },
     "execution_count": 33,
     "metadata": {},
     "output_type": "execute_result"
    }
   ],
   "source": [
    "top_n_features = 10\n",
    "\n",
    "top_features = correlation[:1 + top_n_features].index.to_list()\n",
    "top_features"
   ]
  },
  {
   "cell_type": "markdown",
   "metadata": {},
   "source": [
    "**3.3. Data Splitting** <a id = \"fe-ds\"></a>"
   ]
  },
  {
   "cell_type": "markdown",
   "metadata": {},
   "source": [
    "Separate `price` from `df_clean`, and then split training set into training (further into training and validation during *Hyperparameter Optimisation* later) and testing sets, `80/10/10` (training set to be split again into training and validation sets later) to evaluate model performance."
   ]
  },
  {
   "cell_type": "code",
   "execution_count": 34,
   "metadata": {},
   "outputs": [
    {
     "data": {
      "text/plain": [
       "0         514500.0\n",
       "1         995400.0\n",
       "2        8485000.0\n",
       "3        2626000.0\n",
       "4        1764000.0\n",
       "           ...    \n",
       "20144    1050000.0\n",
       "20145    2087400.0\n",
       "20146    4193700.0\n",
       "20147     754800.0\n",
       "20148    4178000.0\n",
       "Name: price, Length: 20149, dtype: float64"
      ]
     },
     "execution_count": 34,
     "metadata": {},
     "output_type": "execute_result"
    }
   ],
   "source": [
    "price = df_clean['price']\n",
    "df_clean.drop('price', axis = 1, inplace = True)\n",
    "price"
   ]
  },
  {
   "cell_type": "code",
   "execution_count": 35,
   "metadata": {},
   "outputs": [
    {
     "name": "stdout",
     "output_type": "stream",
     "text": [
      "X_train: 18134\n",
      "X_test: 2015\n"
     ]
    }
   ],
   "source": [
    "test_size = 0.1\n",
    "\n",
    "X_train, X_test, y_train, y_test = train_test_split(df_clean, price, test_size = test_size, random_state = 0)\n",
    "\n",
    "print(f'X_train: {len(X_train)}\\nX_test: {len(X_test)}')"
   ]
  },
  {
   "cell_type": "markdown",
   "metadata": {},
   "source": [
    "Here, no feature scaling/normalisation was done as the model performs better without feature scaling/normalisation."
   ]
  },
  {
   "cell_type": "markdown",
   "metadata": {},
   "source": [
    "**4. Modelling** <a id = \"m\"></a>"
   ]
  },
  {
   "cell_type": "markdown",
   "metadata": {},
   "source": [
    "**4.1. Model Exploration** <a id = \"m-me\"></a>"
   ]
  },
  {
   "cell_type": "markdown",
   "metadata": {},
   "source": [
    "Define various regression models and find out which is the most suitable regressor.\n",
    "\n",
    "Models - [scikit-learn.org/stable/supervised_learning.html](https://scikit-learn.org/stable/supervised_learning.html):\n",
    "- Linear Regression (Ordinary Least Squares)\n",
    "- Support Vector Machine\n",
    "- Stochastic Gradient Descent\n",
    "- Nearest Neighbors\n",
    "- Gaussian Process\n",
    "- Naive Bayes\n",
    "- Decision Trees\n",
    "- Random Forest\n",
    "- AdaBoost\n",
    "- XGBoost\n",
    "- Gradient Boosting Regressor\n",
    "\n",
    "MLPRegressor (NN) was excluded due to extremely slow convergence and poor performance."
   ]
  },
  {
   "cell_type": "code",
   "execution_count": 36,
   "metadata": {},
   "outputs": [],
   "source": [
    "models_names = ['Linear Regression', 'SVM', 'SGD', 'KNN', 'GPR', 'GaussianNB', \n",
    "                'Decision Trees', 'Random Forest', 'AdaBoost', 'XGBoost', 'GBR']\n",
    "models = [LinearRegression(), SVR(), SGDRegressor(), KNeighborsRegressor(), GaussianProcessRegressor(), GaussianNB(), \n",
    "          DecisionTreeRegressor(), RandomForestRegressor(), AdaBoostRegressor(), xgboost.XGBRegressor(), GradientBoostingRegressor()]"
   ]
  },
  {
   "cell_type": "markdown",
   "metadata": {},
   "source": [
    "In order to find the best (or most optimal) baseline model, we use `sklearn`'s `RepeatedKFold` function to evaluate baseline model performances over some repetitions."
   ]
  },
  {
   "cell_type": "code",
   "execution_count": 37,
   "metadata": {},
   "outputs": [
    {
     "name": "stdout",
     "output_type": "stream",
     "text": [
      "KFold Training & Evaluation Times:\n",
      "Linear Regression - 0.806s\n",
      "SVM - 547.6187s\n",
      "SGD - 5.667s\n",
      "KNN - 3.417s\n",
      "GPR - 1316.3896s\n",
      "GaussianNB - 142.71s\n",
      "Decision Trees - 2.895s\n",
      "Random Forest - 182.193s\n",
      "AdaBoost - 27.131s\n",
      "XGBoost - 16.1152s\n",
      "GBR - 53.367s\n",
      "\n",
      "Total KFold Modelling Time: 2298.3164s\n"
     ]
    },
    {
     "data": {
      "text/html": [
       "<div>\n",
       "<style scoped>\n",
       "    .dataframe tbody tr th:only-of-type {\n",
       "        vertical-align: middle;\n",
       "    }\n",
       "\n",
       "    .dataframe tbody tr th {\n",
       "        vertical-align: top;\n",
       "    }\n",
       "\n",
       "    .dataframe thead th {\n",
       "        text-align: right;\n",
       "    }\n",
       "</style>\n",
       "<table border=\"1\" class=\"dataframe\">\n",
       "  <thead>\n",
       "    <tr style=\"text-align: right;\">\n",
       "      <th></th>\n",
       "      <th>RMSE</th>\n",
       "      <th>R Square</th>\n",
       "      <th>MSE</th>\n",
       "      <th>MAE</th>\n",
       "      <th>MAPE</th>\n",
       "    </tr>\n",
       "  </thead>\n",
       "  <tbody>\n",
       "    <tr>\n",
       "      <th>XGBoost</th>\n",
       "      <td>1.986812e+06</td>\n",
       "      <td>8.343218e-01</td>\n",
       "      <td>4.093323e+12</td>\n",
       "      <td>3.664585e+05</td>\n",
       "      <td>9.966225e-02</td>\n",
       "    </tr>\n",
       "    <tr>\n",
       "      <th>Random Forest</th>\n",
       "      <td>2.053719e+06</td>\n",
       "      <td>8.236821e-01</td>\n",
       "      <td>4.378569e+12</td>\n",
       "      <td>3.365254e+05</td>\n",
       "      <td>7.878216e-02</td>\n",
       "    </tr>\n",
       "    <tr>\n",
       "      <th>GBR</th>\n",
       "      <td>2.238663e+06</td>\n",
       "      <td>7.908476e-01</td>\n",
       "      <td>5.166037e+12</td>\n",
       "      <td>5.739464e+05</td>\n",
       "      <td>1.739431e-01</td>\n",
       "    </tr>\n",
       "    <tr>\n",
       "      <th>Decision Trees</th>\n",
       "      <td>2.646812e+06</td>\n",
       "      <td>7.049024e-01</td>\n",
       "      <td>7.118763e+12</td>\n",
       "      <td>3.848941e+05</td>\n",
       "      <td>8.665348e-02</td>\n",
       "    </tr>\n",
       "    <tr>\n",
       "      <th>KNN</th>\n",
       "      <td>2.761239e+06</td>\n",
       "      <td>6.829077e-01</td>\n",
       "      <td>7.821626e+12</td>\n",
       "      <td>5.220256e+05</td>\n",
       "      <td>1.463587e-01</td>\n",
       "    </tr>\n",
       "    <tr>\n",
       "      <th>GaussianNB</th>\n",
       "      <td>2.940331e+06</td>\n",
       "      <td>6.392690e-01</td>\n",
       "      <td>8.820166e+12</td>\n",
       "      <td>6.801613e+05</td>\n",
       "      <td>2.343186e-01</td>\n",
       "    </tr>\n",
       "    <tr>\n",
       "      <th>Linear Regression</th>\n",
       "      <td>3.253449e+06</td>\n",
       "      <td>5.606414e-01</td>\n",
       "      <td>1.079086e+13</td>\n",
       "      <td>1.175475e+06</td>\n",
       "      <td>6.091955e-01</td>\n",
       "    </tr>\n",
       "    <tr>\n",
       "      <th>GPR</th>\n",
       "      <td>4.195870e+06</td>\n",
       "      <td>2.668561e-01</td>\n",
       "      <td>1.769793e+13</td>\n",
       "      <td>1.213502e+06</td>\n",
       "      <td>3.288316e-01</td>\n",
       "    </tr>\n",
       "    <tr>\n",
       "      <th>AdaBoost</th>\n",
       "      <td>4.359969e+06</td>\n",
       "      <td>1.917745e-01</td>\n",
       "      <td>1.926277e+13</td>\n",
       "      <td>3.396925e+06</td>\n",
       "      <td>2.635911e+00</td>\n",
       "    </tr>\n",
       "    <tr>\n",
       "      <th>SVM</th>\n",
       "      <td>5.094232e+06</td>\n",
       "      <td>-7.984287e-02</td>\n",
       "      <td>2.604592e+13</td>\n",
       "      <td>2.145181e+06</td>\n",
       "      <td>8.473217e-01</td>\n",
       "    </tr>\n",
       "    <tr>\n",
       "      <th>SGD</th>\n",
       "      <td>2.385691e+17</td>\n",
       "      <td>-3.099503e+21</td>\n",
       "      <td>7.075608e+34</td>\n",
       "      <td>1.634143e+17</td>\n",
       "      <td>1.811448e+11</td>\n",
       "    </tr>\n",
       "  </tbody>\n",
       "</table>\n",
       "</div>"
      ],
      "text/plain": [
       "                           RMSE      R Square           MSE           MAE  \\\n",
       "XGBoost            1.986812e+06  8.343218e-01  4.093323e+12  3.664585e+05   \n",
       "Random Forest      2.053719e+06  8.236821e-01  4.378569e+12  3.365254e+05   \n",
       "GBR                2.238663e+06  7.908476e-01  5.166037e+12  5.739464e+05   \n",
       "Decision Trees     2.646812e+06  7.049024e-01  7.118763e+12  3.848941e+05   \n",
       "KNN                2.761239e+06  6.829077e-01  7.821626e+12  5.220256e+05   \n",
       "GaussianNB         2.940331e+06  6.392690e-01  8.820166e+12  6.801613e+05   \n",
       "Linear Regression  3.253449e+06  5.606414e-01  1.079086e+13  1.175475e+06   \n",
       "GPR                4.195870e+06  2.668561e-01  1.769793e+13  1.213502e+06   \n",
       "AdaBoost           4.359969e+06  1.917745e-01  1.926277e+13  3.396925e+06   \n",
       "SVM                5.094232e+06 -7.984287e-02  2.604592e+13  2.145181e+06   \n",
       "SGD                2.385691e+17 -3.099503e+21  7.075608e+34  1.634143e+17   \n",
       "\n",
       "                           MAPE  \n",
       "XGBoost            9.966225e-02  \n",
       "Random Forest      7.878216e-02  \n",
       "GBR                1.739431e-01  \n",
       "Decision Trees     8.665348e-02  \n",
       "KNN                1.463587e-01  \n",
       "GaussianNB         2.343186e-01  \n",
       "Linear Regression  6.091955e-01  \n",
       "GPR                3.288316e-01  \n",
       "AdaBoost           2.635911e+00  \n",
       "SVM                8.473217e-01  \n",
       "SGD                1.811448e+11  "
      ]
     },
     "execution_count": 37,
     "metadata": {},
     "output_type": "execute_result"
    }
   ],
   "source": [
    "n_splits = 4\n",
    "n_repeats = 5\n",
    "rkf = RepeatedKFold(n_splits = n_splits, n_repeats = n_repeats, random_state = 0)\n",
    "results = {}\n",
    "best_models = {}\n",
    "\n",
    "print('KFold Training & Evaluation Times:')\n",
    "train_start = time.time()\n",
    "for index in range(len(models)):\n",
    "    temp_rmse, temp_rsq, temp_mse, temp_mae, temp_mape = [], [], [], [], []\n",
    "    \n",
    "    start = time.time()\n",
    "    for train_index, test_index in rkf.split(df_clean):\n",
    "        kf_X_train, kf_X_test, kf_y_train, kf_y_test = df_clean.iloc[train_index, :], df_clean.iloc[test_index, :], price[train_index], price[test_index]\n",
    "        model = models[index].fit(kf_X_train, kf_y_train)\n",
    "        kf_y_pred = model.predict(kf_X_test)\n",
    "        \n",
    "        rmse = mean_squared_error(kf_y_test, kf_y_pred, squared = False)\n",
    "        \n",
    "        get_model = best_models.get(models_names[index], None)\n",
    "        if not get_model or rmse < get_model[1]:\n",
    "            best_models[models_names[index]] = [model, rmse]\n",
    "            \n",
    "        temp_rmse.append(rmse)\n",
    "        temp_rsq.append(r2_score(kf_y_test, kf_y_pred))\n",
    "        temp_mse.append(mean_squared_error(kf_y_test, kf_y_pred))\n",
    "        temp_mae.append(mean_absolute_error(kf_y_test, kf_y_pred))\n",
    "        temp_mape.append(mean_absolute_percentage_error(kf_y_test, kf_y_pred))\n",
    "    end = time.time()\n",
    "    print(f'{models_names[index]} - {round(end - start, 4)}s')\n",
    "    results[models_names[index]] = [np.mean(temp_rmse), np.mean(temp_rsq), np.mean(temp_mse), np.mean(temp_mae), np.mean(temp_mape)]\n",
    "\n",
    "print(f'\\nTotal KFold Modelling Time: {round(time.time() - train_start, 4)}s')\n",
    "\n",
    "df_results = pd.DataFrame(results).transpose()\n",
    "df_results.columns = ['RMSE', 'R Square', 'MSE', 'MAE', 'MAPE']\n",
    "df_results.sort_values(by = 'RMSE', ascending = True)"
   ]
  },
  {
   "cell_type": "markdown",
   "metadata": {},
   "source": [
    "Lower RMSE values indicate a better fit between predicted and actual y_test values. The dataframe above shows that the top regressors by RMSE are `XGBoost` and `Random Forest`. However, as the RMSE difference between `XGBoost` and `Random Forest` is small and `Random Forest` has more favourable MAE and MAPE values, we will use `Random Forest` for this task."
   ]
  },
  {
   "cell_type": "markdown",
   "metadata": {},
   "source": [
    "**4.2. Optimised Feature Selection** <a id = \"m-ofs\"></a>"
   ]
  },
  {
   "cell_type": "markdown",
   "metadata": {},
   "source": [
    "Use `sklearn`'s `SelectFromModel` function to determine the best features to select for `Random Forest` (baseline model used here). Compared to other `sklearn` feature selection methods such as SelectKBest, Sequential Feature Selection (SFS), Recursive Feature Elimination (RFE/RFECV), `SelectFromModel` yields the most optimal results."
   ]
  },
  {
   "cell_type": "code",
   "execution_count": 38,
   "metadata": {},
   "outputs": [
    {
     "name": "stdout",
     "output_type": "stream",
     "text": [
      "CPU times: total: 10.4 s\n",
      "Wall time: 10.3 s\n"
     ]
    },
    {
     "data": {
      "text/html": [
       "<style>#sk-container-id-1 {color: black;background-color: white;}#sk-container-id-1 pre{padding: 0;}#sk-container-id-1 div.sk-toggleable {background-color: white;}#sk-container-id-1 label.sk-toggleable__label {cursor: pointer;display: block;width: 100%;margin-bottom: 0;padding: 0.3em;box-sizing: border-box;text-align: center;}#sk-container-id-1 label.sk-toggleable__label-arrow:before {content: \"▸\";float: left;margin-right: 0.25em;color: #696969;}#sk-container-id-1 label.sk-toggleable__label-arrow:hover:before {color: black;}#sk-container-id-1 div.sk-estimator:hover label.sk-toggleable__label-arrow:before {color: black;}#sk-container-id-1 div.sk-toggleable__content {max-height: 0;max-width: 0;overflow: hidden;text-align: left;background-color: #f0f8ff;}#sk-container-id-1 div.sk-toggleable__content pre {margin: 0.2em;color: black;border-radius: 0.25em;background-color: #f0f8ff;}#sk-container-id-1 input.sk-toggleable__control:checked~div.sk-toggleable__content {max-height: 200px;max-width: 100%;overflow: auto;}#sk-container-id-1 input.sk-toggleable__control:checked~label.sk-toggleable__label-arrow:before {content: \"▾\";}#sk-container-id-1 div.sk-estimator input.sk-toggleable__control:checked~label.sk-toggleable__label {background-color: #d4ebff;}#sk-container-id-1 div.sk-label input.sk-toggleable__control:checked~label.sk-toggleable__label {background-color: #d4ebff;}#sk-container-id-1 input.sk-hidden--visually {border: 0;clip: rect(1px 1px 1px 1px);clip: rect(1px, 1px, 1px, 1px);height: 1px;margin: -1px;overflow: hidden;padding: 0;position: absolute;width: 1px;}#sk-container-id-1 div.sk-estimator {font-family: monospace;background-color: #f0f8ff;border: 1px dotted black;border-radius: 0.25em;box-sizing: border-box;margin-bottom: 0.5em;}#sk-container-id-1 div.sk-estimator:hover {background-color: #d4ebff;}#sk-container-id-1 div.sk-parallel-item::after {content: \"\";width: 100%;border-bottom: 1px solid gray;flex-grow: 1;}#sk-container-id-1 div.sk-label:hover label.sk-toggleable__label {background-color: #d4ebff;}#sk-container-id-1 div.sk-serial::before {content: \"\";position: absolute;border-left: 1px solid gray;box-sizing: border-box;top: 0;bottom: 0;left: 50%;z-index: 0;}#sk-container-id-1 div.sk-serial {display: flex;flex-direction: column;align-items: center;background-color: white;padding-right: 0.2em;padding-left: 0.2em;position: relative;}#sk-container-id-1 div.sk-item {position: relative;z-index: 1;}#sk-container-id-1 div.sk-parallel {display: flex;align-items: stretch;justify-content: center;background-color: white;position: relative;}#sk-container-id-1 div.sk-item::before, #sk-container-id-1 div.sk-parallel-item::before {content: \"\";position: absolute;border-left: 1px solid gray;box-sizing: border-box;top: 0;bottom: 0;left: 50%;z-index: -1;}#sk-container-id-1 div.sk-parallel-item {display: flex;flex-direction: column;z-index: 1;position: relative;background-color: white;}#sk-container-id-1 div.sk-parallel-item:first-child::after {align-self: flex-end;width: 50%;}#sk-container-id-1 div.sk-parallel-item:last-child::after {align-self: flex-start;width: 50%;}#sk-container-id-1 div.sk-parallel-item:only-child::after {width: 0;}#sk-container-id-1 div.sk-dashed-wrapped {border: 1px dashed gray;margin: 0 0.4em 0.5em 0.4em;box-sizing: border-box;padding-bottom: 0.4em;background-color: white;}#sk-container-id-1 div.sk-label label {font-family: monospace;font-weight: bold;display: inline-block;line-height: 1.2em;}#sk-container-id-1 div.sk-label-container {text-align: center;}#sk-container-id-1 div.sk-container {/* jupyter's `normalize.less` sets `[hidden] { display: none; }` but bootstrap.min.css set `[hidden] { display: none !important; }` so we also need the `!important` here to be able to override the default hidden behavior on the sphinx rendered scikit-learn.org. See: https://github.com/scikit-learn/scikit-learn/issues/21755 */display: inline-block !important;position: relative;}#sk-container-id-1 div.sk-text-repr-fallback {display: none;}</style><div id=\"sk-container-id-1\" class=\"sk-top-container\"><div class=\"sk-text-repr-fallback\"><pre>SelectFromModel(estimator=RandomForestRegressor(random_state=0),\n",
       "                threshold=&#x27;0.9 * mean&#x27;)</pre><b>In a Jupyter environment, please rerun this cell to show the HTML representation or trust the notebook. <br />On GitHub, the HTML representation is unable to render, please try loading this page with nbviewer.org.</b></div><div class=\"sk-container\" hidden><div class=\"sk-item sk-dashed-wrapped\"><div class=\"sk-label-container\"><div class=\"sk-label sk-toggleable\"><input class=\"sk-toggleable__control sk-hidden--visually\" id=\"sk-estimator-id-1\" type=\"checkbox\" ><label for=\"sk-estimator-id-1\" class=\"sk-toggleable__label sk-toggleable__label-arrow\">SelectFromModel</label><div class=\"sk-toggleable__content\"><pre>SelectFromModel(estimator=RandomForestRegressor(random_state=0),\n",
       "                threshold=&#x27;0.9 * mean&#x27;)</pre></div></div></div><div class=\"sk-parallel\"><div class=\"sk-parallel-item\"><div class=\"sk-item\"><div class=\"sk-label-container\"><div class=\"sk-label sk-toggleable\"><input class=\"sk-toggleable__control sk-hidden--visually\" id=\"sk-estimator-id-2\" type=\"checkbox\" ><label for=\"sk-estimator-id-2\" class=\"sk-toggleable__label sk-toggleable__label-arrow\">estimator: RandomForestRegressor</label><div class=\"sk-toggleable__content\"><pre>RandomForestRegressor(random_state=0)</pre></div></div></div><div class=\"sk-serial\"><div class=\"sk-item\"><div class=\"sk-estimator sk-toggleable\"><input class=\"sk-toggleable__control sk-hidden--visually\" id=\"sk-estimator-id-3\" type=\"checkbox\" ><label for=\"sk-estimator-id-3\" class=\"sk-toggleable__label sk-toggleable__label-arrow\">RandomForestRegressor</label><div class=\"sk-toggleable__content\"><pre>RandomForestRegressor(random_state=0)</pre></div></div></div></div></div></div></div></div></div></div>"
      ],
      "text/plain": [
       "SelectFromModel(estimator=RandomForestRegressor(random_state=0),\n",
       "                threshold='0.9 * mean')"
      ]
     },
     "execution_count": 38,
     "metadata": {},
     "output_type": "execute_result"
    }
   ],
   "source": [
    "%%time\n",
    "\n",
    "rf = RandomForestRegressor(random_state = 0)\n",
    "selector = SelectFromModel(rf, threshold = '0.9 * mean') # slightly lower feature importance threshold \n",
    "selector.fit(X_train, y_train)"
   ]
  },
  {
   "cell_type": "code",
   "execution_count": 39,
   "metadata": {},
   "outputs": [
    {
     "data": {
      "text/plain": [
       "array(['property_type', 'num_beds', 'num_baths', 'size_sqft', 'lat',\n",
       "       'lng', 'years_remaining', 'subzone_population',\n",
       "       'planning_area_population_density', 'planning_area_num_sec_sch'],\n",
       "      dtype=object)"
      ]
     },
     "execution_count": 39,
     "metadata": {},
     "output_type": "execute_result"
    }
   ],
   "source": [
    "selector.get_feature_names_out()"
   ]
  },
  {
   "cell_type": "code",
   "execution_count": 40,
   "metadata": {},
   "outputs": [],
   "source": [
    "X_train = pd.DataFrame(selector.transform(X_train), columns = selector.get_feature_names_out())\n",
    "X_test = pd.DataFrame(selector.transform(X_test), columns = selector.get_feature_names_out())"
   ]
  },
  {
   "cell_type": "markdown",
   "metadata": {},
   "source": [
    "Select the same features for `df_test`."
   ]
  },
  {
   "cell_type": "code",
   "execution_count": 41,
   "metadata": {},
   "outputs": [],
   "source": [
    "df_test = pd.DataFrame(selector.transform(df_test), columns = selector.get_feature_names_out())"
   ]
  },
  {
   "cell_type": "markdown",
   "metadata": {},
   "source": [
    "**4.3. Hyperparameter Optimisation** <a id = \"m-hpo\"></a>"
   ]
  },
  {
   "cell_type": "markdown",
   "metadata": {},
   "source": [
    "Here, after numerous attempts in optimising the regressor's hyperparameters, we considered 2 approaches for *Hyperparameter Optimisation (HPO)*: `hyperopt-sklearn` (auto-HPO) and `hyperopt` (more optimal alternative to grid/random search in terms of model performance and optimisation time)."
   ]
  },
  {
   "cell_type": "markdown",
   "metadata": {},
   "source": [
    "**4.3.a. First Approach – `hyperopt-sklearn`** <a id = \"m-hpo-a\"></a>"
   ]
  },
  {
   "cell_type": "markdown",
   "metadata": {},
   "source": [
    "Utilise `hyperopt-sklearn` to automatically optimise the hyperparameters for our Random Forest Regressor.\n",
    "\n",
    "HyperoptEstimator arguments:\n",
    "- No preprocessing is necessary thus pass an empty list – `preprocessing = []`.\n",
    "- Define regressor as Random Forest Regressor with a constant random_state for more consistent results – `regressor = random_forest_regressor('my_rfr', random_state = 0)`.\n",
    "- Define hyperopt suggest algorithm as Tree of Parzen Estimators (TPE) instead of random search – `algo = tpe.suggest`.\n",
    "- Define a custom RMSE loss function as the performance evaluation metric – `loss_fn = partial(mean_squared_error, squared = False)`.\n",
    "- Limit the number of configurations (hyperparameter combinations) to 10 as it takes quite some time – `max_evals = 10` (default value).\n",
    "- Define a constant seed for more consistent results – `seed = 0`.\n",
    "\n",
    "Fit arguments:\n",
    "- Define a validation set of 10% of `df_clean` (about 11% of X_train) – `valid_size = 0.11`.\n",
    "- Define a reasonable number of k folds – `n_folds = 4` (about 4000 samples per fold).\n",
    "- Perform sample shuffling before splitting to train and validation sets – `cv_shuffle = True`.\n",
    "- Define a constant random_state for more consistent results – `random_state = np.random.default_rng(seed = 0)`."
   ]
  },
  {
   "cell_type": "code",
   "execution_count": 42,
   "metadata": {
    "scrolled": true
   },
   "outputs": [
    {
     "name": "stdout",
     "output_type": "stream",
     "text": [
      "100%|██████████████████████████████████████████████████| 1/1 [01:11<00:00, 71.22s/trial, best loss: 3110847.2623425946]\n",
      "100%|██████████████████████████████████████████████████| 2/2 [00:04<00:00,  4.10s/trial, best loss: 3110847.2623425946]\n",
      "100%|███████████████████████████████████████████████████| 3/3 [00:02<00:00,  2.73s/trial, best loss: 2716790.812217899]\n",
      "100%|███████████████████████████████████████████████████| 4/4 [00:09<00:00,  9.53s/trial, best loss: 1927289.762805455]\n",
      "100%|█████████████████████████████████████████████████| 5/5 [34:31<00:00, 2071.68s/trial, best loss: 1927289.762805455]\n",
      "100%|█████████████████████████████████████████████████| 6/6 [06:10<00:00, 370.46s/trial, best loss: 1866844.4757534736]\n",
      "100%|█████████████████████████████████████████████████| 7/7 [02:37<00:00, 157.82s/trial, best loss: 1866844.4757534736]\n",
      "100%|█████████████████████████████████████████████████| 8/8 [02:17<00:00, 137.30s/trial, best loss: 1866844.4757534736]\n",
      "100%|██████████████████████████████████████████████████| 9/9 [00:39<00:00, 39.83s/trial, best loss: 1866844.4757534736]\n",
      "100%|████████████████████████████████████████████████| 10/10 [00:03<00:00,  3.62s/trial, best loss: 1866844.4757534736]\n",
      "CPU times: total: 2min 38s\n",
      "Wall time: 50min 26s\n"
     ]
    }
   ],
   "source": [
    "%%time\n",
    "\n",
    "estim = HyperoptEstimator(preprocessing = [], regressor = random_forest_regressor('my_rfr', random_state = 0), \n",
    "                          algo = tpe.suggest, loss_fn = partial(mean_squared_error, squared = False), max_evals = 10, seed = 0)\n",
    "estim.fit(X_train, y_train, valid_size = 0.11, n_folds = 4, cv_shuffle = True, random_state = np.random.default_rng(seed = 0))"
   ]
  },
  {
   "cell_type": "code",
   "execution_count": 43,
   "metadata": {},
   "outputs": [
    {
     "data": {
      "text/plain": [
       "{'learner': RandomForestRegressor(bootstrap=False, criterion='absolute_error',\n",
       "                       max_features='sqrt', n_estimators=58, n_jobs=1,\n",
       "                       random_state=0, verbose=False),\n",
       " 'preprocs': (),\n",
       " 'ex_preprocs': ()}"
      ]
     },
     "execution_count": 43,
     "metadata": {},
     "output_type": "execute_result"
    }
   ],
   "source": [
    "estim.best_model()"
   ]
  },
  {
   "cell_type": "markdown",
   "metadata": {},
   "source": [
    "After optimising the hyperparameters, save the trained regressor as `hpsk_model`."
   ]
  },
  {
   "cell_type": "code",
   "execution_count": 44,
   "metadata": {
    "scrolled": true
   },
   "outputs": [
    {
     "data": {
      "text/html": [
       "<style>#sk-container-id-2 {color: black;background-color: white;}#sk-container-id-2 pre{padding: 0;}#sk-container-id-2 div.sk-toggleable {background-color: white;}#sk-container-id-2 label.sk-toggleable__label {cursor: pointer;display: block;width: 100%;margin-bottom: 0;padding: 0.3em;box-sizing: border-box;text-align: center;}#sk-container-id-2 label.sk-toggleable__label-arrow:before {content: \"▸\";float: left;margin-right: 0.25em;color: #696969;}#sk-container-id-2 label.sk-toggleable__label-arrow:hover:before {color: black;}#sk-container-id-2 div.sk-estimator:hover label.sk-toggleable__label-arrow:before {color: black;}#sk-container-id-2 div.sk-toggleable__content {max-height: 0;max-width: 0;overflow: hidden;text-align: left;background-color: #f0f8ff;}#sk-container-id-2 div.sk-toggleable__content pre {margin: 0.2em;color: black;border-radius: 0.25em;background-color: #f0f8ff;}#sk-container-id-2 input.sk-toggleable__control:checked~div.sk-toggleable__content {max-height: 200px;max-width: 100%;overflow: auto;}#sk-container-id-2 input.sk-toggleable__control:checked~label.sk-toggleable__label-arrow:before {content: \"▾\";}#sk-container-id-2 div.sk-estimator input.sk-toggleable__control:checked~label.sk-toggleable__label {background-color: #d4ebff;}#sk-container-id-2 div.sk-label input.sk-toggleable__control:checked~label.sk-toggleable__label {background-color: #d4ebff;}#sk-container-id-2 input.sk-hidden--visually {border: 0;clip: rect(1px 1px 1px 1px);clip: rect(1px, 1px, 1px, 1px);height: 1px;margin: -1px;overflow: hidden;padding: 0;position: absolute;width: 1px;}#sk-container-id-2 div.sk-estimator {font-family: monospace;background-color: #f0f8ff;border: 1px dotted black;border-radius: 0.25em;box-sizing: border-box;margin-bottom: 0.5em;}#sk-container-id-2 div.sk-estimator:hover {background-color: #d4ebff;}#sk-container-id-2 div.sk-parallel-item::after {content: \"\";width: 100%;border-bottom: 1px solid gray;flex-grow: 1;}#sk-container-id-2 div.sk-label:hover label.sk-toggleable__label {background-color: #d4ebff;}#sk-container-id-2 div.sk-serial::before {content: \"\";position: absolute;border-left: 1px solid gray;box-sizing: border-box;top: 0;bottom: 0;left: 50%;z-index: 0;}#sk-container-id-2 div.sk-serial {display: flex;flex-direction: column;align-items: center;background-color: white;padding-right: 0.2em;padding-left: 0.2em;position: relative;}#sk-container-id-2 div.sk-item {position: relative;z-index: 1;}#sk-container-id-2 div.sk-parallel {display: flex;align-items: stretch;justify-content: center;background-color: white;position: relative;}#sk-container-id-2 div.sk-item::before, #sk-container-id-2 div.sk-parallel-item::before {content: \"\";position: absolute;border-left: 1px solid gray;box-sizing: border-box;top: 0;bottom: 0;left: 50%;z-index: -1;}#sk-container-id-2 div.sk-parallel-item {display: flex;flex-direction: column;z-index: 1;position: relative;background-color: white;}#sk-container-id-2 div.sk-parallel-item:first-child::after {align-self: flex-end;width: 50%;}#sk-container-id-2 div.sk-parallel-item:last-child::after {align-self: flex-start;width: 50%;}#sk-container-id-2 div.sk-parallel-item:only-child::after {width: 0;}#sk-container-id-2 div.sk-dashed-wrapped {border: 1px dashed gray;margin: 0 0.4em 0.5em 0.4em;box-sizing: border-box;padding-bottom: 0.4em;background-color: white;}#sk-container-id-2 div.sk-label label {font-family: monospace;font-weight: bold;display: inline-block;line-height: 1.2em;}#sk-container-id-2 div.sk-label-container {text-align: center;}#sk-container-id-2 div.sk-container {/* jupyter's `normalize.less` sets `[hidden] { display: none; }` but bootstrap.min.css set `[hidden] { display: none !important; }` so we also need the `!important` here to be able to override the default hidden behavior on the sphinx rendered scikit-learn.org. See: https://github.com/scikit-learn/scikit-learn/issues/21755 */display: inline-block !important;position: relative;}#sk-container-id-2 div.sk-text-repr-fallback {display: none;}</style><div id=\"sk-container-id-2\" class=\"sk-top-container\"><div class=\"sk-text-repr-fallback\"><pre>RandomForestRegressor(bootstrap=False, criterion=&#x27;absolute_error&#x27;,\n",
       "                      max_features=&#x27;sqrt&#x27;, n_estimators=58, n_jobs=1,\n",
       "                      random_state=0, verbose=False)</pre><b>In a Jupyter environment, please rerun this cell to show the HTML representation or trust the notebook. <br />On GitHub, the HTML representation is unable to render, please try loading this page with nbviewer.org.</b></div><div class=\"sk-container\" hidden><div class=\"sk-item\"><div class=\"sk-estimator sk-toggleable\"><input class=\"sk-toggleable__control sk-hidden--visually\" id=\"sk-estimator-id-4\" type=\"checkbox\" checked><label for=\"sk-estimator-id-4\" class=\"sk-toggleable__label sk-toggleable__label-arrow\">RandomForestRegressor</label><div class=\"sk-toggleable__content\"><pre>RandomForestRegressor(bootstrap=False, criterion=&#x27;absolute_error&#x27;,\n",
       "                      max_features=&#x27;sqrt&#x27;, n_estimators=58, n_jobs=1,\n",
       "                      random_state=0, verbose=False)</pre></div></div></div></div></div>"
      ],
      "text/plain": [
       "RandomForestRegressor(bootstrap=False, criterion='absolute_error',\n",
       "                      max_features='sqrt', n_estimators=58, n_jobs=1,\n",
       "                      random_state=0, verbose=False)"
      ]
     },
     "execution_count": 44,
     "metadata": {},
     "output_type": "execute_result"
    }
   ],
   "source": [
    "hpsk_model = estim.best_model()['learner']\n",
    "hpsk_model"
   ]
  },
  {
   "cell_type": "markdown",
   "metadata": {},
   "source": [
    "**4.3.b. Second Approach – `hyperopt`** <a id = \"m-hpo-b\"></a>"
   ]
  },
  {
   "cell_type": "markdown",
   "metadata": {},
   "source": [
    "Utilise `hyperopt` to optimise the relevant hyperparameters for our Random Forest Regressor as the `First Approach` above is not deterministic even with constant seed/random_state values. Relevant hyperparameters are determined based on numerous runs of the `First Approach` above.\n",
    "\n",
    "This approach requires us to split the current training set into training and validation sets manually."
   ]
  },
  {
   "cell_type": "code",
   "execution_count": 45,
   "metadata": {},
   "outputs": [
    {
     "name": "stdout",
     "output_type": "stream",
     "text": [
      "X_train: 16119\n",
      "X_test: 2015\n",
      "X_val: 2015\n"
     ]
    }
   ],
   "source": [
    "X_train, X_val, y_train, y_val = train_test_split(X_train, y_train, test_size = len(X_test) / len(X_train), random_state = 0)\n",
    "\n",
    "print(f'X_train: {len(X_train)}\\nX_test: {len(X_test)}\\nX_val: {len(X_val)}')"
   ]
  },
  {
   "cell_type": "markdown",
   "metadata": {},
   "source": [
    "`fmin` arguments:\n",
    "- Define objective function – `fn = rfr_objective`. Set fixed `criterion` and `bootstrap` parameter values as better performing models consist of `criterion = 'absolute_error'` and `bootstrap = False`.\n",
    "- Define search space – `space = rfr_space`. Optimise the parameter values of `n_estimators`, `max_features` and `min_impurity_decrease` with the most optimal combinations (based on numerous runs of the `First Approach` above, RMSE values on test and on Kaggle).\n",
    "- Define hyperopt suggest algorithm as Tree of Parzen Estimators (TPE) instead of random search – `algo = tpe.suggest`.\n",
    "- Limit the number of configurations (hyperparameter combinations) to 10 as it takes quite some time – `max_evals = 10`.\n",
    "- Define a Trials object to store relevant result information – `trials = trials`.\n",
    "- Define a constant seed for deterministic results – `rstate = np.random.default_rng(seed = 0)`."
   ]
  },
  {
   "cell_type": "code",
   "execution_count": 46,
   "metadata": {},
   "outputs": [],
   "source": [
    "rfr_space = {\n",
    "    'n_estimators': scope.int(hp.loguniform('n_estimators', 5.25, 7.25)), # between 190 to 1408 estimators\n",
    "    'max_features': hp.uniform('max_features', 0, 1),\n",
    "    'min_impurity_decrease': hp.choice('min_impurity_decrease', [0, 0.01, 0.02, 0.05])\n",
    "}\n",
    "\n",
    "trials_results = pd.DataFrame(columns = ['Validation RMSE', 'Test RMSE'])\n",
    "\n",
    "def rfr_objective(rfr_space):\n",
    "    start = time.time()\n",
    "    \n",
    "    rf = RandomForestRegressor(**rfr_space, criterion = 'absolute_error', bootstrap = False, \n",
    "                               n_jobs = -1, random_state = 0).fit(X_train, y_train)\n",
    "    \n",
    "    val_rmse = mean_squared_error(y_val, rf.predict(X_val), squared = False)\n",
    "    test_rmse = mean_squared_error(y_test, rf.predict(X_test), squared = False)\n",
    "    trials_results.loc[trials_results.shape[0]] = [val_rmse, test_rmse]\n",
    "    \n",
    "    def_params = RandomForestRegressor().get_params()\n",
    "    reg_params = rf.get_params()\n",
    "    \n",
    "    return {\n",
    "        'loss': val_rmse, \n",
    "        'test_rmse': test_rmse, \n",
    "        'params': {param : value for param, value in reg_params.items() if reg_params[param] != def_params[param]}, \n",
    "        'time': str(time.time() - start) + 's', \n",
    "        'status': STATUS_OK\n",
    "    }"
   ]
  },
  {
   "cell_type": "code",
   "execution_count": 47,
   "metadata": {},
   "outputs": [
    {
     "name": "stdout",
     "output_type": "stream",
     "text": [
      "100%|███████████████████████████████████████████████| 20/20 [2:43:59<00:00, 491.99s/trial, best loss: 1817859.71827723]\n"
     ]
    }
   ],
   "source": [
    "trials = Trials()\n",
    "\n",
    "best_params = fmin(fn = rfr_objective, space = rfr_space, algo = tpe.suggest, max_evals = 20, trials = trials, \n",
    "                   rstate = np.random.default_rng(seed = 0))"
   ]
  },
  {
   "cell_type": "code",
   "execution_count": 48,
   "metadata": {},
   "outputs": [
    {
     "data": {
      "text/plain": [
       "[{'loss': 1832786.1368184965,\n",
       "  'test_rmse': 1725777.0277085716,\n",
       "  'params': {'bootstrap': False,\n",
       "   'criterion': 'absolute_error',\n",
       "   'max_features': 0.190496195178539,\n",
       "   'min_impurity_decrease': 0.05,\n",
       "   'n_estimators': 745,\n",
       "   'n_jobs': -1,\n",
       "   'random_state': 0},\n",
       "  'time': '166.45599484443665s',\n",
       "  'status': 'ok'},\n",
       " {'loss': 1825654.1242144068,\n",
       "  'test_rmse': 1735856.1395323812,\n",
       "  'params': {'bootstrap': False,\n",
       "   'criterion': 'absolute_error',\n",
       "   'max_features': 0.18777487575294727,\n",
       "   'min_impurity_decrease': 0.05,\n",
       "   'n_estimators': 996,\n",
       "   'n_jobs': -1,\n",
       "   'random_state': 0},\n",
       "  'time': '230.2749993801117s',\n",
       "  'status': 'ok'},\n",
       " {'loss': 1823923.8831560528,\n",
       "  'test_rmse': 2013394.8090019384,\n",
       "  'params': {'bootstrap': False,\n",
       "   'criterion': 'absolute_error',\n",
       "   'max_features': 0.4101277476340921,\n",
       "   'min_impurity_decrease': 0.01,\n",
       "   'n_estimators': 461,\n",
       "   'n_jobs': -1,\n",
       "   'random_state': 0},\n",
       "  'time': '285.1859986782074s',\n",
       "  'status': 'ok'},\n",
       " {'loss': 2311429.333154983,\n",
       "  'test_rmse': 2829981.4950424093,\n",
       "  'params': {'bootstrap': False,\n",
       "   'criterion': 'absolute_error',\n",
       "   'max_features': 0.8964179680799482,\n",
       "   'n_estimators': 1174,\n",
       "   'n_jobs': -1,\n",
       "   'random_state': 0},\n",
       "  'time': '1378.847998380661s',\n",
       "  'status': 'ok'},\n",
       " {'loss': 1858493.1587466383,\n",
       "  'test_rmse': 1847820.6098252942,\n",
       "  'params': {'bootstrap': False,\n",
       "   'criterion': 'absolute_error',\n",
       "   'max_features': 0.3744678637601164,\n",
       "   'min_impurity_decrease': 0.05,\n",
       "   'n_estimators': 568,\n",
       "   'n_jobs': -1,\n",
       "   'random_state': 0},\n",
       "  'time': '310.58900022506714s',\n",
       "  'status': 'ok'},\n",
       " {'loss': 2285302.354743556,\n",
       "  'test_rmse': 2799647.7734079924,\n",
       "  'params': {'bootstrap': False,\n",
       "   'criterion': 'absolute_error',\n",
       "   'max_features': 0.8120201961136909,\n",
       "   'min_impurity_decrease': 0.02,\n",
       "   'n_estimators': 1403,\n",
       "   'n_jobs': -1,\n",
       "   'random_state': 0},\n",
       "  'time': '1588.7749972343445s',\n",
       "  'status': 'ok'},\n",
       " {'loss': 1817859.71827723,\n",
       "  'test_rmse': 1758185.4510332672,\n",
       "  'params': {'bootstrap': False,\n",
       "   'criterion': 'absolute_error',\n",
       "   'max_features': 0.07464196842676663,\n",
       "   'n_estimators': 819,\n",
       "   'n_jobs': -1,\n",
       "   'random_state': 0},\n",
       "  'time': '217.19900584220886s',\n",
       "  'status': 'ok'},\n",
       " {'loss': 2681026.4948839042,\n",
       "  'test_rmse': 3120681.738222808,\n",
       "  'params': {'bootstrap': False,\n",
       "   'criterion': 'absolute_error',\n",
       "   'max_features': 0.9381806490254235,\n",
       "   'n_estimators': 262,\n",
       "   'n_jobs': -1,\n",
       "   'random_state': 0},\n",
       "  'time': '343.3880000114441s',\n",
       "  'status': 'ok'},\n",
       " {'loss': 2238791.9978976995,\n",
       "  'test_rmse': 2789861.4553780365,\n",
       "  'params': {'bootstrap': False,\n",
       "   'criterion': 'absolute_error',\n",
       "   'max_features': 0.8609343460681542,\n",
       "   'min_impurity_decrease': 0.05,\n",
       "   'n_estimators': 519,\n",
       "   'n_jobs': -1,\n",
       "   'random_state': 0},\n",
       "  'time': '612.793000459671s',\n",
       "  'status': 'ok'},\n",
       " {'loss': 2300266.1707323603,\n",
       "  'test_rmse': 2820960.79311674,\n",
       "  'params': {'bootstrap': False,\n",
       "   'criterion': 'absolute_error',\n",
       "   'max_features': 0.8953238343456044,\n",
       "   'min_impurity_decrease': 0.01,\n",
       "   'n_estimators': 371,\n",
       "   'n_jobs': -1,\n",
       "   'random_state': 0},\n",
       "  'time': '440.7310004234314s',\n",
       "  'status': 'ok'},\n",
       " {'loss': 1824939.9591688057,\n",
       "  'test_rmse': 2020274.3038885775,\n",
       "  'params': {'bootstrap': False,\n",
       "   'criterion': 'absolute_error',\n",
       "   'max_features': 0.46560116934614804,\n",
       "   'min_impurity_decrease': 0.01,\n",
       "   'n_estimators': 430,\n",
       "   'n_jobs': -1,\n",
       "   'random_state': 0},\n",
       "  'time': '289.01700019836426s',\n",
       "  'status': 'ok'},\n",
       " {'loss': 1999423.6200486266,\n",
       "  'test_rmse': 2428255.4187563537,\n",
       "  'params': {'bootstrap': False,\n",
       "   'criterion': 'absolute_error',\n",
       "   'max_features': 0.6758242580770901,\n",
       "   'min_impurity_decrease': 0.05,\n",
       "   'n_estimators': 603,\n",
       "   'n_jobs': -1,\n",
       "   'random_state': 0},\n",
       "  'time': '562.071268081665s',\n",
       "  'status': 'ok'},\n",
       " {'loss': 1972418.5476747665,\n",
       "  'test_rmse': 2421056.185017241,\n",
       "  'params': {'bootstrap': False,\n",
       "   'criterion': 'absolute_error',\n",
       "   'max_features': 0.6814082460413754,\n",
       "   'n_estimators': 670,\n",
       "   'n_jobs': -1,\n",
       "   'random_state': 0},\n",
       "  'time': '625.9809992313385s',\n",
       "  'status': 'ok'},\n",
       " {'loss': 1839284.0818278461,\n",
       "  'test_rmse': 2057124.196533828,\n",
       "  'params': {'bootstrap': False,\n",
       "   'criterion': 'absolute_error',\n",
       "   'max_features': 0.44676361602012926,\n",
       "   'min_impurity_decrease': 0.02,\n",
       "   'n_estimators': 1037,\n",
       "   'n_jobs': -1,\n",
       "   'random_state': 0},\n",
       "  'time': '702.4550039768219s',\n",
       "  'status': 'ok'},\n",
       " {'loss': 1825283.3738243403,\n",
       "  'test_rmse': 1721622.1595023228,\n",
       "  'params': {'bootstrap': False,\n",
       "   'criterion': 'absolute_error',\n",
       "   'max_features': 0.022630288679654664,\n",
       "   'min_impurity_decrease': 0.02,\n",
       "   'n_estimators': 654,\n",
       "   'n_jobs': -1,\n",
       "   'random_state': 0},\n",
       "  'time': '179.8800003528595s',\n",
       "  'status': 'ok'},\n",
       " {'loss': 1867201.9004894022,\n",
       "  'test_rmse': 2039401.5568872786,\n",
       "  'params': {'bootstrap': False,\n",
       "   'criterion': 'absolute_error',\n",
       "   'max_features': 0.489965709721621,\n",
       "   'min_impurity_decrease': 0.05,\n",
       "   'n_estimators': 627,\n",
       "   'n_jobs': -1,\n",
       "   'random_state': 0},\n",
       "  'time': '429.2940049171448s',\n",
       "  'status': 'ok'},\n",
       " {'loss': 1827775.5149418695,\n",
       "  'test_rmse': 1841659.2588795787,\n",
       "  'params': {'bootstrap': False,\n",
       "   'criterion': 'absolute_error',\n",
       "   'max_features': 0.27501628355384233,\n",
       "   'n_estimators': 205,\n",
       "   'n_jobs': -1,\n",
       "   'random_state': 0},\n",
       "  'time': '81.67700052261353s',\n",
       "  'status': 'ok'},\n",
       " {'loss': 1848223.5439246488,\n",
       "  'test_rmse': 1757737.9300515554,\n",
       "  'params': {'bootstrap': False,\n",
       "   'criterion': 'absolute_error',\n",
       "   'max_features': 0.15781105702702714,\n",
       "   'min_impurity_decrease': 0.05,\n",
       "   'n_estimators': 302,\n",
       "   'n_jobs': -1,\n",
       "   'random_state': 0},\n",
       "  'time': '78.40700173377991s',\n",
       "  'status': 'ok'},\n",
       " {'loss': 1840483.5445262739,\n",
       "  'test_rmse': 2030587.4966364237,\n",
       "  'params': {'bootstrap': False,\n",
       "   'criterion': 'absolute_error',\n",
       "   'max_features': 0.4697103055339882,\n",
       "   'min_impurity_decrease': 0.05,\n",
       "   'n_estimators': 1053,\n",
       "   'n_jobs': -1,\n",
       "   'random_state': 0},\n",
       "  'time': '712.5819935798645s',\n",
       "  'status': 'ok'},\n",
       " {'loss': 2316465.672717861,\n",
       "  'test_rmse': 2821108.055862526,\n",
       "  'params': {'bootstrap': False,\n",
       "   'criterion': 'absolute_error',\n",
       "   'max_features': 0.8079221496042333,\n",
       "   'n_estimators': 502,\n",
       "   'n_jobs': -1,\n",
       "   'random_state': 0},\n",
       "  'time': '602.8320021629333s',\n",
       "  'status': 'ok'}]"
      ]
     },
     "execution_count": 48,
     "metadata": {},
     "output_type": "execute_result"
    }
   ],
   "source": [
    "trials.results"
   ]
  },
  {
   "cell_type": "markdown",
   "metadata": {},
   "source": [
    "To prevent selecting a (potentially) overfitted model, calculate the absolute difference between Validation RMSE and Test RMSE scores, and then select the hyperparameter set that results in the smallest absolute difference. Afterwards, train the model with the respective hyperparameter set and the same training data (X_train, y_train)."
   ]
  },
  {
   "cell_type": "code",
   "execution_count": 49,
   "metadata": {},
   "outputs": [
    {
     "data": {
      "text/html": [
       "<div>\n",
       "<style scoped>\n",
       "    .dataframe tbody tr th:only-of-type {\n",
       "        vertical-align: middle;\n",
       "    }\n",
       "\n",
       "    .dataframe tbody tr th {\n",
       "        vertical-align: top;\n",
       "    }\n",
       "\n",
       "    .dataframe thead th {\n",
       "        text-align: right;\n",
       "    }\n",
       "</style>\n",
       "<table border=\"1\" class=\"dataframe\">\n",
       "  <thead>\n",
       "    <tr style=\"text-align: right;\">\n",
       "      <th></th>\n",
       "      <th>Validation RMSE</th>\n",
       "      <th>Test RMSE</th>\n",
       "      <th>Difference</th>\n",
       "    </tr>\n",
       "  </thead>\n",
       "  <tbody>\n",
       "    <tr>\n",
       "      <th>4</th>\n",
       "      <td>1.858493e+06</td>\n",
       "      <td>1.847821e+06</td>\n",
       "      <td>10672.548921</td>\n",
       "    </tr>\n",
       "    <tr>\n",
       "      <th>16</th>\n",
       "      <td>1.827776e+06</td>\n",
       "      <td>1.841659e+06</td>\n",
       "      <td>13883.743938</td>\n",
       "    </tr>\n",
       "    <tr>\n",
       "      <th>6</th>\n",
       "      <td>1.817860e+06</td>\n",
       "      <td>1.758185e+06</td>\n",
       "      <td>59674.267244</td>\n",
       "    </tr>\n",
       "    <tr>\n",
       "      <th>1</th>\n",
       "      <td>1.825654e+06</td>\n",
       "      <td>1.735856e+06</td>\n",
       "      <td>89797.984682</td>\n",
       "    </tr>\n",
       "    <tr>\n",
       "      <th>17</th>\n",
       "      <td>1.848224e+06</td>\n",
       "      <td>1.757738e+06</td>\n",
       "      <td>90485.613873</td>\n",
       "    </tr>\n",
       "    <tr>\n",
       "      <th>14</th>\n",
       "      <td>1.825283e+06</td>\n",
       "      <td>1.721622e+06</td>\n",
       "      <td>103661.214322</td>\n",
       "    </tr>\n",
       "    <tr>\n",
       "      <th>0</th>\n",
       "      <td>1.832786e+06</td>\n",
       "      <td>1.725777e+06</td>\n",
       "      <td>107009.109110</td>\n",
       "    </tr>\n",
       "    <tr>\n",
       "      <th>15</th>\n",
       "      <td>1.867202e+06</td>\n",
       "      <td>2.039402e+06</td>\n",
       "      <td>172199.656398</td>\n",
       "    </tr>\n",
       "    <tr>\n",
       "      <th>2</th>\n",
       "      <td>1.823924e+06</td>\n",
       "      <td>2.013395e+06</td>\n",
       "      <td>189470.925846</td>\n",
       "    </tr>\n",
       "    <tr>\n",
       "      <th>18</th>\n",
       "      <td>1.840484e+06</td>\n",
       "      <td>2.030587e+06</td>\n",
       "      <td>190103.952110</td>\n",
       "    </tr>\n",
       "    <tr>\n",
       "      <th>10</th>\n",
       "      <td>1.824940e+06</td>\n",
       "      <td>2.020274e+06</td>\n",
       "      <td>195334.344720</td>\n",
       "    </tr>\n",
       "    <tr>\n",
       "      <th>13</th>\n",
       "      <td>1.839284e+06</td>\n",
       "      <td>2.057124e+06</td>\n",
       "      <td>217840.114706</td>\n",
       "    </tr>\n",
       "    <tr>\n",
       "      <th>11</th>\n",
       "      <td>1.999424e+06</td>\n",
       "      <td>2.428255e+06</td>\n",
       "      <td>428831.798708</td>\n",
       "    </tr>\n",
       "    <tr>\n",
       "      <th>7</th>\n",
       "      <td>2.681026e+06</td>\n",
       "      <td>3.120682e+06</td>\n",
       "      <td>439655.243339</td>\n",
       "    </tr>\n",
       "    <tr>\n",
       "      <th>12</th>\n",
       "      <td>1.972419e+06</td>\n",
       "      <td>2.421056e+06</td>\n",
       "      <td>448637.637342</td>\n",
       "    </tr>\n",
       "    <tr>\n",
       "      <th>19</th>\n",
       "      <td>2.316466e+06</td>\n",
       "      <td>2.821108e+06</td>\n",
       "      <td>504642.383145</td>\n",
       "    </tr>\n",
       "    <tr>\n",
       "      <th>5</th>\n",
       "      <td>2.285302e+06</td>\n",
       "      <td>2.799648e+06</td>\n",
       "      <td>514345.418664</td>\n",
       "    </tr>\n",
       "    <tr>\n",
       "      <th>3</th>\n",
       "      <td>2.311429e+06</td>\n",
       "      <td>2.829981e+06</td>\n",
       "      <td>518552.161887</td>\n",
       "    </tr>\n",
       "    <tr>\n",
       "      <th>9</th>\n",
       "      <td>2.300266e+06</td>\n",
       "      <td>2.820961e+06</td>\n",
       "      <td>520694.622384</td>\n",
       "    </tr>\n",
       "    <tr>\n",
       "      <th>8</th>\n",
       "      <td>2.238792e+06</td>\n",
       "      <td>2.789861e+06</td>\n",
       "      <td>551069.457480</td>\n",
       "    </tr>\n",
       "  </tbody>\n",
       "</table>\n",
       "</div>"
      ],
      "text/plain": [
       "    Validation RMSE     Test RMSE     Difference\n",
       "4      1.858493e+06  1.847821e+06   10672.548921\n",
       "16     1.827776e+06  1.841659e+06   13883.743938\n",
       "6      1.817860e+06  1.758185e+06   59674.267244\n",
       "1      1.825654e+06  1.735856e+06   89797.984682\n",
       "17     1.848224e+06  1.757738e+06   90485.613873\n",
       "14     1.825283e+06  1.721622e+06  103661.214322\n",
       "0      1.832786e+06  1.725777e+06  107009.109110\n",
       "15     1.867202e+06  2.039402e+06  172199.656398\n",
       "2      1.823924e+06  2.013395e+06  189470.925846\n",
       "18     1.840484e+06  2.030587e+06  190103.952110\n",
       "10     1.824940e+06  2.020274e+06  195334.344720\n",
       "13     1.839284e+06  2.057124e+06  217840.114706\n",
       "11     1.999424e+06  2.428255e+06  428831.798708\n",
       "7      2.681026e+06  3.120682e+06  439655.243339\n",
       "12     1.972419e+06  2.421056e+06  448637.637342\n",
       "19     2.316466e+06  2.821108e+06  504642.383145\n",
       "5      2.285302e+06  2.799648e+06  514345.418664\n",
       "3      2.311429e+06  2.829981e+06  518552.161887\n",
       "9      2.300266e+06  2.820961e+06  520694.622384\n",
       "8      2.238792e+06  2.789861e+06  551069.457480"
      ]
     },
     "execution_count": 49,
     "metadata": {},
     "output_type": "execute_result"
    }
   ],
   "source": [
    "trials_results['Difference'] = abs(trials_results['Test RMSE'] - trials_results['Validation RMSE'])\n",
    "trials_results.sort_values(by = 'Difference')"
   ]
  },
  {
   "cell_type": "code",
   "execution_count": 50,
   "metadata": {},
   "outputs": [
    {
     "data": {
      "text/plain": [
       "{'bootstrap': False,\n",
       " 'criterion': 'absolute_error',\n",
       " 'max_features': 0.3744678637601164,\n",
       " 'min_impurity_decrease': 0.05,\n",
       " 'n_estimators': 568,\n",
       " 'n_jobs': -1,\n",
       " 'random_state': 0}"
      ]
     },
     "execution_count": 50,
     "metadata": {},
     "output_type": "execute_result"
    }
   ],
   "source": [
    "hpo_params = trials.results[4]['params']\n",
    "hpo_params"
   ]
  },
  {
   "cell_type": "code",
   "execution_count": 51,
   "metadata": {
    "scrolled": true
   },
   "outputs": [
    {
     "name": "stdout",
     "output_type": "stream",
     "text": [
      "CPU times: total: 52min 25s\n",
      "Wall time: 5min 3s\n"
     ]
    },
    {
     "data": {
      "text/html": [
       "<style>#sk-container-id-3 {color: black;background-color: white;}#sk-container-id-3 pre{padding: 0;}#sk-container-id-3 div.sk-toggleable {background-color: white;}#sk-container-id-3 label.sk-toggleable__label {cursor: pointer;display: block;width: 100%;margin-bottom: 0;padding: 0.3em;box-sizing: border-box;text-align: center;}#sk-container-id-3 label.sk-toggleable__label-arrow:before {content: \"▸\";float: left;margin-right: 0.25em;color: #696969;}#sk-container-id-3 label.sk-toggleable__label-arrow:hover:before {color: black;}#sk-container-id-3 div.sk-estimator:hover label.sk-toggleable__label-arrow:before {color: black;}#sk-container-id-3 div.sk-toggleable__content {max-height: 0;max-width: 0;overflow: hidden;text-align: left;background-color: #f0f8ff;}#sk-container-id-3 div.sk-toggleable__content pre {margin: 0.2em;color: black;border-radius: 0.25em;background-color: #f0f8ff;}#sk-container-id-3 input.sk-toggleable__control:checked~div.sk-toggleable__content {max-height: 200px;max-width: 100%;overflow: auto;}#sk-container-id-3 input.sk-toggleable__control:checked~label.sk-toggleable__label-arrow:before {content: \"▾\";}#sk-container-id-3 div.sk-estimator input.sk-toggleable__control:checked~label.sk-toggleable__label {background-color: #d4ebff;}#sk-container-id-3 div.sk-label input.sk-toggleable__control:checked~label.sk-toggleable__label {background-color: #d4ebff;}#sk-container-id-3 input.sk-hidden--visually {border: 0;clip: rect(1px 1px 1px 1px);clip: rect(1px, 1px, 1px, 1px);height: 1px;margin: -1px;overflow: hidden;padding: 0;position: absolute;width: 1px;}#sk-container-id-3 div.sk-estimator {font-family: monospace;background-color: #f0f8ff;border: 1px dotted black;border-radius: 0.25em;box-sizing: border-box;margin-bottom: 0.5em;}#sk-container-id-3 div.sk-estimator:hover {background-color: #d4ebff;}#sk-container-id-3 div.sk-parallel-item::after {content: \"\";width: 100%;border-bottom: 1px solid gray;flex-grow: 1;}#sk-container-id-3 div.sk-label:hover label.sk-toggleable__label {background-color: #d4ebff;}#sk-container-id-3 div.sk-serial::before {content: \"\";position: absolute;border-left: 1px solid gray;box-sizing: border-box;top: 0;bottom: 0;left: 50%;z-index: 0;}#sk-container-id-3 div.sk-serial {display: flex;flex-direction: column;align-items: center;background-color: white;padding-right: 0.2em;padding-left: 0.2em;position: relative;}#sk-container-id-3 div.sk-item {position: relative;z-index: 1;}#sk-container-id-3 div.sk-parallel {display: flex;align-items: stretch;justify-content: center;background-color: white;position: relative;}#sk-container-id-3 div.sk-item::before, #sk-container-id-3 div.sk-parallel-item::before {content: \"\";position: absolute;border-left: 1px solid gray;box-sizing: border-box;top: 0;bottom: 0;left: 50%;z-index: -1;}#sk-container-id-3 div.sk-parallel-item {display: flex;flex-direction: column;z-index: 1;position: relative;background-color: white;}#sk-container-id-3 div.sk-parallel-item:first-child::after {align-self: flex-end;width: 50%;}#sk-container-id-3 div.sk-parallel-item:last-child::after {align-self: flex-start;width: 50%;}#sk-container-id-3 div.sk-parallel-item:only-child::after {width: 0;}#sk-container-id-3 div.sk-dashed-wrapped {border: 1px dashed gray;margin: 0 0.4em 0.5em 0.4em;box-sizing: border-box;padding-bottom: 0.4em;background-color: white;}#sk-container-id-3 div.sk-label label {font-family: monospace;font-weight: bold;display: inline-block;line-height: 1.2em;}#sk-container-id-3 div.sk-label-container {text-align: center;}#sk-container-id-3 div.sk-container {/* jupyter's `normalize.less` sets `[hidden] { display: none; }` but bootstrap.min.css set `[hidden] { display: none !important; }` so we also need the `!important` here to be able to override the default hidden behavior on the sphinx rendered scikit-learn.org. See: https://github.com/scikit-learn/scikit-learn/issues/21755 */display: inline-block !important;position: relative;}#sk-container-id-3 div.sk-text-repr-fallback {display: none;}</style><div id=\"sk-container-id-3\" class=\"sk-top-container\"><div class=\"sk-text-repr-fallback\"><pre>RandomForestRegressor(bootstrap=False, criterion=&#x27;absolute_error&#x27;,\n",
       "                      max_features=0.3744678637601164,\n",
       "                      min_impurity_decrease=0.05, n_estimators=568, n_jobs=-1,\n",
       "                      random_state=0)</pre><b>In a Jupyter environment, please rerun this cell to show the HTML representation or trust the notebook. <br />On GitHub, the HTML representation is unable to render, please try loading this page with nbviewer.org.</b></div><div class=\"sk-container\" hidden><div class=\"sk-item\"><div class=\"sk-estimator sk-toggleable\"><input class=\"sk-toggleable__control sk-hidden--visually\" id=\"sk-estimator-id-5\" type=\"checkbox\" checked><label for=\"sk-estimator-id-5\" class=\"sk-toggleable__label sk-toggleable__label-arrow\">RandomForestRegressor</label><div class=\"sk-toggleable__content\"><pre>RandomForestRegressor(bootstrap=False, criterion=&#x27;absolute_error&#x27;,\n",
       "                      max_features=0.3744678637601164,\n",
       "                      min_impurity_decrease=0.05, n_estimators=568, n_jobs=-1,\n",
       "                      random_state=0)</pre></div></div></div></div></div>"
      ],
      "text/plain": [
       "RandomForestRegressor(bootstrap=False, criterion='absolute_error',\n",
       "                      max_features=0.3744678637601164,\n",
       "                      min_impurity_decrease=0.05, n_estimators=568, n_jobs=-1,\n",
       "                      random_state=0)"
      ]
     },
     "execution_count": 51,
     "metadata": {},
     "output_type": "execute_result"
    }
   ],
   "source": [
    "%%time\n",
    "\n",
    "hpo_model = RandomForestRegressor(**hpo_params)\n",
    "hpo_model.fit(X_train, y_train)"
   ]
  },
  {
   "cell_type": "markdown",
   "metadata": {},
   "source": [
    "**5. Performance Evaluation** <a id = \"pe\"></a>"
   ]
  },
  {
   "cell_type": "markdown",
   "metadata": {},
   "source": [
    "**5.1. Local Test (*X_test*)** <a id = \"pe-lt\"></a>"
   ]
  },
  {
   "cell_type": "code",
   "execution_count": 52,
   "metadata": {},
   "outputs": [
    {
     "name": "stdout",
     "output_type": "stream",
     "text": [
      "Local test RMSE score (First Approach, hyperopt-sklearn, non-deterministic): 1868333.5202554981\n",
      "Local test RMSE score (Second Approach, hyperopt, deterministic): 1847820.6098252942\n"
     ]
    },
    {
     "name": "stderr",
     "output_type": "stream",
     "text": [
      "C:\\Users\\Michael\\Anaconda3\\envs\\Python-3.10.6\\lib\\site-packages\\sklearn\\base.py:443: UserWarning: X has feature names, but RandomForestRegressor was fitted without feature names\n",
      "  warnings.warn(\n"
     ]
    }
   ],
   "source": [
    "hpsk_y_pred = hpsk_model.predict(X_test)\n",
    "hpo_y_pred = hpo_model.predict(X_test)\n",
    "\n",
    "print(f'Local test RMSE score (First Approach, hyperopt-sklearn, non-deterministic): {mean_squared_error(y_test, hpsk_y_pred, squared = False)}')\n",
    "print(f'Local test RMSE score (Second Approach, hyperopt, deterministic): {mean_squared_error(y_test, hpo_y_pred, squared = False)}')"
   ]
  },
  {
   "cell_type": "markdown",
   "metadata": {},
   "source": [
    "**5.2. Test Dataset (*test.csv*)** <a id = \"pe-td\"></a>"
   ]
  },
  {
   "cell_type": "markdown",
   "metadata": {},
   "source": [
    "Quickly inspect the test set (`df_test`)."
   ]
  },
  {
   "cell_type": "code",
   "execution_count": 53,
   "metadata": {},
   "outputs": [
    {
     "data": {
      "text/html": [
       "<div>\n",
       "<style scoped>\n",
       "    .dataframe tbody tr th:only-of-type {\n",
       "        vertical-align: middle;\n",
       "    }\n",
       "\n",
       "    .dataframe tbody tr th {\n",
       "        vertical-align: top;\n",
       "    }\n",
       "\n",
       "    .dataframe thead th {\n",
       "        text-align: right;\n",
       "    }\n",
       "</style>\n",
       "<table border=\"1\" class=\"dataframe\">\n",
       "  <thead>\n",
       "    <tr style=\"text-align: right;\">\n",
       "      <th></th>\n",
       "      <th>property_type</th>\n",
       "      <th>num_beds</th>\n",
       "      <th>num_baths</th>\n",
       "      <th>size_sqft</th>\n",
       "      <th>lat</th>\n",
       "      <th>lng</th>\n",
       "      <th>years_remaining</th>\n",
       "      <th>subzone_population</th>\n",
       "      <th>planning_area_population_density</th>\n",
       "      <th>planning_area_num_sec_sch</th>\n",
       "    </tr>\n",
       "  </thead>\n",
       "  <tbody>\n",
       "    <tr>\n",
       "      <th>0</th>\n",
       "      <td>3.0</td>\n",
       "      <td>1.0</td>\n",
       "      <td>1.0</td>\n",
       "      <td>463.0</td>\n",
       "      <td>1.344334</td>\n",
       "      <td>103.878690</td>\n",
       "      <td>999.0</td>\n",
       "      <td>16920.0</td>\n",
       "      <td>11573.569887</td>\n",
       "      <td>4.0</td>\n",
       "    </tr>\n",
       "    <tr>\n",
       "      <th>1</th>\n",
       "      <td>3.0</td>\n",
       "      <td>3.0</td>\n",
       "      <td>3.0</td>\n",
       "      <td>1033.0</td>\n",
       "      <td>1.380281</td>\n",
       "      <td>103.943878</td>\n",
       "      <td>94.0</td>\n",
       "      <td>35790.0</td>\n",
       "      <td>9784.582233</td>\n",
       "      <td>4.0</td>\n",
       "    </tr>\n",
       "    <tr>\n",
       "      <th>2</th>\n",
       "      <td>3.0</td>\n",
       "      <td>1.0</td>\n",
       "      <td>1.0</td>\n",
       "      <td>570.0</td>\n",
       "      <td>1.294668</td>\n",
       "      <td>103.850074</td>\n",
       "      <td>84.0</td>\n",
       "      <td>10.0</td>\n",
       "      <td>626.883665</td>\n",
       "      <td>1.0</td>\n",
       "    </tr>\n",
       "    <tr>\n",
       "      <th>3</th>\n",
       "      <td>1.0</td>\n",
       "      <td>3.0</td>\n",
       "      <td>2.0</td>\n",
       "      <td>1216.0</td>\n",
       "      <td>1.373120</td>\n",
       "      <td>103.746094</td>\n",
       "      <td>94.0</td>\n",
       "      <td>38180.0</td>\n",
       "      <td>31398.352187</td>\n",
       "      <td>6.0</td>\n",
       "    </tr>\n",
       "    <tr>\n",
       "      <th>4</th>\n",
       "      <td>1.0</td>\n",
       "      <td>3.0</td>\n",
       "      <td>2.0</td>\n",
       "      <td>936.0</td>\n",
       "      <td>1.341468</td>\n",
       "      <td>103.849047</td>\n",
       "      <td>50.0</td>\n",
       "      <td>9810.0</td>\n",
       "      <td>14894.137206</td>\n",
       "      <td>7.0</td>\n",
       "    </tr>\n",
       "  </tbody>\n",
       "</table>\n",
       "</div>"
      ],
      "text/plain": [
       "   property_type  num_beds  num_baths  size_sqft       lat         lng  \\\n",
       "0            3.0       1.0        1.0      463.0  1.344334  103.878690   \n",
       "1            3.0       3.0        3.0     1033.0  1.380281  103.943878   \n",
       "2            3.0       1.0        1.0      570.0  1.294668  103.850074   \n",
       "3            1.0       3.0        2.0     1216.0  1.373120  103.746094   \n",
       "4            1.0       3.0        2.0      936.0  1.341468  103.849047   \n",
       "\n",
       "   years_remaining  subzone_population  planning_area_population_density  \\\n",
       "0            999.0             16920.0                      11573.569887   \n",
       "1             94.0             35790.0                       9784.582233   \n",
       "2             84.0                10.0                        626.883665   \n",
       "3             94.0             38180.0                      31398.352187   \n",
       "4             50.0              9810.0                      14894.137206   \n",
       "\n",
       "   planning_area_num_sec_sch  \n",
       "0                        4.0  \n",
       "1                        4.0  \n",
       "2                        1.0  \n",
       "3                        6.0  \n",
       "4                        7.0  "
      ]
     },
     "execution_count": 53,
     "metadata": {},
     "output_type": "execute_result"
    }
   ],
   "source": [
    "df_test.head()"
   ]
  },
  {
   "cell_type": "markdown",
   "metadata": {},
   "source": [
    "Predict housing prices on the test set (`df_test`) with our `Second Approach, hyperopt` model, round off to the nearest thousand, and then generate a CSV file containing those predictions."
   ]
  },
  {
   "cell_type": "code",
   "execution_count": 54,
   "metadata": {},
   "outputs": [
    {
     "data": {
      "text/html": [
       "<div>\n",
       "<style scoped>\n",
       "    .dataframe tbody tr th:only-of-type {\n",
       "        vertical-align: middle;\n",
       "    }\n",
       "\n",
       "    .dataframe tbody tr th {\n",
       "        vertical-align: top;\n",
       "    }\n",
       "\n",
       "    .dataframe thead th {\n",
       "        text-align: right;\n",
       "    }\n",
       "</style>\n",
       "<table border=\"1\" class=\"dataframe\">\n",
       "  <thead>\n",
       "    <tr style=\"text-align: right;\">\n",
       "      <th></th>\n",
       "      <th>Id</th>\n",
       "      <th>Predicted</th>\n",
       "    </tr>\n",
       "  </thead>\n",
       "  <tbody>\n",
       "    <tr>\n",
       "      <th>0</th>\n",
       "      <td>0</td>\n",
       "      <td>1195000.0</td>\n",
       "    </tr>\n",
       "    <tr>\n",
       "      <th>1</th>\n",
       "      <td>1</td>\n",
       "      <td>1470000.0</td>\n",
       "    </tr>\n",
       "    <tr>\n",
       "      <th>2</th>\n",
       "      <td>2</td>\n",
       "      <td>1160000.0</td>\n",
       "    </tr>\n",
       "    <tr>\n",
       "      <th>3</th>\n",
       "      <td>3</td>\n",
       "      <td>694000.0</td>\n",
       "    </tr>\n",
       "    <tr>\n",
       "      <th>4</th>\n",
       "      <td>4</td>\n",
       "      <td>548000.0</td>\n",
       "    </tr>\n",
       "  </tbody>\n",
       "</table>\n",
       "</div>"
      ],
      "text/plain": [
       "   Id  Predicted\n",
       "0   0  1195000.0\n",
       "1   1  1470000.0\n",
       "2   2  1160000.0\n",
       "3   3   694000.0\n",
       "4   4   548000.0"
      ]
     },
     "execution_count": 54,
     "metadata": {},
     "output_type": "execute_result"
    }
   ],
   "source": [
    "y_pred_test = hpo_model.predict(df_test)\n",
    "\n",
    "submission = pd.DataFrame({'Predicted': y_pred_test}).reset_index().rename({'index': 'Id'}, axis = 1)\n",
    "submission['Predicted'] = submission['Predicted'].round(decimals = -3)\n",
    "submission.head()"
   ]
  },
  {
   "cell_type": "code",
   "execution_count": 55,
   "metadata": {},
   "outputs": [
    {
     "name": "stdout",
     "output_type": "stream",
     "text": [
      "Submission File: Submissions/final-submission-801010-RandomForestRegressor-n=10-fs=SelectFromModel-HPO.csv\n"
     ]
    }
   ],
   "source": [
    "submission_filename = f'''Submissions/final-submission-\n",
    "{100 - (int(test_size * 100) * 2)}{int(test_size * 100)}{int(test_size * 100)}-{hpo_model.__class__.__name__}-n={X_train.shape[1]}\n",
    "{\"-fs=\" + selector.__class__.__name__ if \"selector\" in locals() else \"\"}\n",
    "{\"-HPO\" if \"trials\" in locals() else \"\"}.csv'''.replace('\\n', '')\n",
    "print(f'Submission File: {submission_filename}')\n",
    "\n",
    "submission.to_csv(submission_filename, index = False)"
   ]
  },
  {
   "cell_type": "markdown",
   "metadata": {},
   "source": [
    "Latest Submission Kaggle RMSE (30% of test data) with Second Approach – hyperopt: *1543959.45397*\n",
    "\n",
    "Best Kaggle RMSE (30% of test data) of all runs with First Approach – hyperopt-sklearn: *1322608.33633*"
   ]
  },
  {
   "cell_type": "markdown",
   "metadata": {},
   "source": [
    "**6. Other Approaches** <a id = \"oa\"></a>"
   ]
  },
  {
   "cell_type": "code",
   "execution_count": 56,
   "metadata": {},
   "outputs": [
    {
     "name": "stdout",
     "output_type": "stream",
     "text": [
      "n_iterations: 5\n",
      "n_required_iterations: 5\n",
      "n_possible_iterations: 5\n",
      "min_resources_: 199\n",
      "max_resources_: 16119\n",
      "aggressive_elimination: False\n",
      "factor: 3\n",
      "----------\n",
      "iter: 0\n",
      "n_candidates: 100\n",
      "n_resources: 199\n",
      "Fitting 10 folds for each of 100 candidates, totalling 1000 fits\n",
      "----------\n",
      "iter: 1\n",
      "n_candidates: 34\n",
      "n_resources: 597\n",
      "Fitting 10 folds for each of 34 candidates, totalling 340 fits\n",
      "----------\n",
      "iter: 2\n",
      "n_candidates: 12\n",
      "n_resources: 1791\n",
      "Fitting 10 folds for each of 12 candidates, totalling 120 fits\n",
      "----------\n",
      "iter: 3\n",
      "n_candidates: 4\n",
      "n_resources: 5373\n",
      "Fitting 10 folds for each of 4 candidates, totalling 40 fits\n",
      "----------\n",
      "iter: 4\n",
      "n_candidates: 2\n",
      "n_resources: 16119\n",
      "Fitting 10 folds for each of 2 candidates, totalling 20 fits\n",
      "The best hyperparameters are  {'model__base_estimator__max_depth': 15, 'model__learning_rate': 1.0, 'model__n_estimators': 50}\n"
     ]
    }
   ],
   "source": [
    "model = AdaBoostRegressor(base_estimator=DecisionTreeRegressor())\n",
    "# Set up pipeline with imputer for proper grid search\n",
    "# Reference: https://scikit-learn.org/stable/tutorial/statistical_inference/putting_together.html\n",
    "pipeline = Pipeline(steps=[('model', model)])\n",
    "\n",
    "# define grid search for hyperparameters\n",
    "grid = {\n",
    "    'model__base_estimator__max_depth': [i for i in range(1, 21, 2)],\n",
    "    'model__n_estimators': [50, 100, 150, 250, 500],\n",
    "    'model__learning_rate': [0.1, 1.0],\n",
    "}\n",
    "# Repeats set at 3 to reduce model \n",
    "cv = RepeatedKFold(n_splits=10, n_repeats=1, random_state=1)\n",
    "\n",
    "mse = make_scorer(mean_squared_error, greater_is_better=False)\n",
    "grid_search = HalvingGridSearchCV(estimator=pipeline, param_grid=grid, cv=cv, n_jobs=-1, scoring=mse, verbose=1)\n",
    "# Execute the grid search\n",
    "grid_results = grid_search.fit(X_train, y_train)\n",
    "print(\"The best hyperparameters are \",grid_search.best_params_)"
   ]
  },
  {
   "cell_type": "code",
   "execution_count": 57,
   "metadata": {},
   "outputs": [
    {
     "name": "stdout",
     "output_type": "stream",
     "text": [
      "1779974.3267284282\n"
     ]
    }
   ],
   "source": [
    "y_pred_val = grid_results.predict(X_test)\n",
    "print(mean_squared_error(y_test, y_pred_val, squared = False))"
   ]
  },
  {
   "cell_type": "code",
   "execution_count": 58,
   "metadata": {},
   "outputs": [
    {
     "name": "stdout",
     "output_type": "stream",
     "text": [
      "The best hyperparameters are  {'learning_rate': 0.03, 'max_depth': 3, 'n_estimators': 500}\n"
     ]
    }
   ],
   "source": [
    "regressor=xgboost.XGBRegressor(objective ='reg:squarederror',eval_metric='rmse')\n",
    "param_grid = {\"max_depth\":    [3, 4, 5],\n",
    "              \"n_estimators\": [500, 600, 700],\n",
    "              \"learning_rate\": [0.015, 0.03]}\n",
    "\n",
    "# try out every combination of the above values\n",
    "search = HalvingGridSearchCV(regressor, param_grid, cv=5).fit(X_train, y_train)\n",
    "\n",
    "print(\"The best hyperparameters are \",search.best_params_)"
   ]
  },
  {
   "cell_type": "code",
   "execution_count": 59,
   "metadata": {},
   "outputs": [
    {
     "name": "stdout",
     "output_type": "stream",
     "text": [
      "2009953.249008892\n"
     ]
    }
   ],
   "source": [
    "clf = search\n",
    "y_pred_val = clf.predict(X_test)\n",
    "print(mean_squared_error(y_test, y_pred_val, squared = False))"
   ]
  },
  {
   "cell_type": "code",
   "execution_count": 60,
   "metadata": {},
   "outputs": [
    {
     "name": "stdout",
     "output_type": "stream",
     "text": [
      "The best hyperparameters are  {'learning_rate': 0.4, 'max_depth': 4, 'n_estimators': 550}\n"
     ]
    }
   ],
   "source": [
    "model = GradientBoostingRegressor()\n",
    "# define grid search for hyperparameters\n",
    "grid = {\n",
    "    'max_depth': [i for i in range(2, 7, 2)],\n",
    "    'n_estimators': [400, 500,550],\n",
    "    'learning_rate': [0.2, 0.4],\n",
    "}\n",
    "# Repeats set at 3 to reduce model \n",
    "cv = RepeatedKFold(n_splits=10, n_repeats=1, random_state=1)\n",
    "\n",
    "# mse = make_scorer(mean_squared_error, greater_is_better=False)\n",
    "grid_search = HalvingGridSearchCV(model, grid, cv=cv).fit(X_train, y_train)\n",
    "print(\"The best hyperparameters are \",grid_search.best_params_)"
   ]
  },
  {
   "cell_type": "code",
   "execution_count": 61,
   "metadata": {},
   "outputs": [
    {
     "name": "stdout",
     "output_type": "stream",
     "text": [
      "2579351.549851234\n"
     ]
    }
   ],
   "source": [
    "y_pred_val = grid_search.predict(X_test)\n",
    "print(mean_squared_error(y_test, y_pred_val, squared = False))"
   ]
  }
 ],
 "metadata": {
  "kernelspec": {
   "display_name": "Python 3.10.6",
   "language": "python",
   "name": "python-3.10.6"
  },
  "language_info": {
   "codemirror_mode": {
    "name": "ipython",
    "version": 3
   },
   "file_extension": ".py",
   "mimetype": "text/x-python",
   "name": "python",
   "nbconvert_exporter": "python",
   "pygments_lexer": "ipython3",
   "version": "3.10.6"
  }
 },
 "nbformat": 4,
 "nbformat_minor": 4
}
